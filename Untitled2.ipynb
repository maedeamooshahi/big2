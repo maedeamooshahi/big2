{
  "nbformat": 4,
  "nbformat_minor": 0,
  "metadata": {
    "colab": {
      "name": "Untitled2.ipynb",
      "provenance": [],
      "authorship_tag": "ABX9TyNxc/We3JCmH0mcbuWuGwHa",
      "include_colab_link": true
    },
    "kernelspec": {
      "name": "python3",
      "display_name": "Python 3"
    },
    "language_info": {
      "name": "python"
    }
  },
  "cells": [
    {
      "cell_type": "markdown",
      "metadata": {
        "id": "view-in-github",
        "colab_type": "text"
      },
      "source": [
        "<a href=\"https://colab.research.google.com/github/maedeamooshahi/big2/blob/main/Untitled2.ipynb\" target=\"_parent\"><img src=\"https://colab.research.google.com/assets/colab-badge.svg\" alt=\"Open In Colab\"/></a>"
      ]
    },
    {
      "cell_type": "code",
      "execution_count": 1,
      "metadata": {
        "colab": {
          "base_uri": "https://localhost:8080/"
        },
        "id": "Ry5JiMjTXiL8",
        "outputId": "e288773a-a950-4f1b-ac98-f7a24e06da84"
      },
      "outputs": [
        {
          "output_type": "stream",
          "name": "stdout",
          "text": [
            "\u001b[K     |████████████████████████████████| 281.4 MB 35 kB/s \n",
            "\u001b[K     |████████████████████████████████| 198 kB 50.0 MB/s \n",
            "\u001b[?25h  Building wheel for pyspark (setup.py) ... \u001b[?25l\u001b[?25hdone\n"
          ]
        }
      ],
      "source": [
        "!pip install pyspark --quiet\n",
        "!pip install -U -q PyDrive --quiet \n",
        "!apt install openjdk-8-jdk-headless &> /dev/null"
      ]
    },
    {
      "cell_type": "code",
      "source": [
        "import os\n",
        "os.environ[\"JAVA_HOME\"] = \"/usr/lib/jvm/java-8-openjdk-amd64\""
      ],
      "metadata": {
        "id": "CrQ8p0LGYNX5"
      },
      "execution_count": 2,
      "outputs": []
    },
    {
      "cell_type": "code",
      "source": [
        "#reading dataset from my googledrive\n",
        "!pip install gdown\n",
        "!pip install --upgrade --no-cache-dir gdown\n",
        "!gdown --id 1y1BXUZPKDke_LpL7Lmgr4v1WzOrGg1qw\n",
        "!unzip \"./HW2_dataset.zip\" -d \"./\"\n",
        "\n",
        "#https://drive.google.com/file/d/1y1BXUZPKDke_LpL7Lmgr4v1WzOrGg1qw/view?usp=sharing"
      ],
      "metadata": {
        "colab": {
          "base_uri": "https://localhost:8080/"
        },
        "id": "Onvn6m5yYtB1",
        "outputId": "46a008ad-917d-4e35-cc0c-15311bf36277"
      },
      "execution_count": 3,
      "outputs": [
        {
          "output_type": "stream",
          "name": "stdout",
          "text": [
            "Requirement already satisfied: gdown in /usr/local/lib/python3.7/dist-packages (4.2.2)\n",
            "Requirement already satisfied: beautifulsoup4 in /usr/local/lib/python3.7/dist-packages (from gdown) (4.6.3)\n",
            "Requirement already satisfied: six in /usr/local/lib/python3.7/dist-packages (from gdown) (1.15.0)\n",
            "Requirement already satisfied: tqdm in /usr/local/lib/python3.7/dist-packages (from gdown) (4.63.0)\n",
            "Requirement already satisfied: filelock in /usr/local/lib/python3.7/dist-packages (from gdown) (3.6.0)\n",
            "Requirement already satisfied: requests[socks] in /usr/local/lib/python3.7/dist-packages (from gdown) (2.23.0)\n",
            "Requirement already satisfied: certifi>=2017.4.17 in /usr/local/lib/python3.7/dist-packages (from requests[socks]->gdown) (2021.10.8)\n",
            "Requirement already satisfied: urllib3!=1.25.0,!=1.25.1,<1.26,>=1.21.1 in /usr/local/lib/python3.7/dist-packages (from requests[socks]->gdown) (1.24.3)\n",
            "Requirement already satisfied: chardet<4,>=3.0.2 in /usr/local/lib/python3.7/dist-packages (from requests[socks]->gdown) (3.0.4)\n",
            "Requirement already satisfied: idna<3,>=2.5 in /usr/local/lib/python3.7/dist-packages (from requests[socks]->gdown) (2.10)\n",
            "Requirement already satisfied: PySocks!=1.5.7,>=1.5.6 in /usr/local/lib/python3.7/dist-packages (from requests[socks]->gdown) (1.7.1)\n",
            "Requirement already satisfied: gdown in /usr/local/lib/python3.7/dist-packages (4.2.2)\n",
            "Collecting gdown\n",
            "  Downloading gdown-4.4.0.tar.gz (14 kB)\n",
            "  Installing build dependencies ... \u001b[?25l\u001b[?25hdone\n",
            "  Getting requirements to build wheel ... \u001b[?25l\u001b[?25hdone\n",
            "    Preparing wheel metadata ... \u001b[?25l\u001b[?25hdone\n",
            "Requirement already satisfied: beautifulsoup4 in /usr/local/lib/python3.7/dist-packages (from gdown) (4.6.3)\n",
            "Requirement already satisfied: tqdm in /usr/local/lib/python3.7/dist-packages (from gdown) (4.63.0)\n",
            "Requirement already satisfied: requests[socks] in /usr/local/lib/python3.7/dist-packages (from gdown) (2.23.0)\n",
            "Requirement already satisfied: six in /usr/local/lib/python3.7/dist-packages (from gdown) (1.15.0)\n",
            "Requirement already satisfied: filelock in /usr/local/lib/python3.7/dist-packages (from gdown) (3.6.0)\n",
            "Requirement already satisfied: certifi>=2017.4.17 in /usr/local/lib/python3.7/dist-packages (from requests[socks]->gdown) (2021.10.8)\n",
            "Requirement already satisfied: idna<3,>=2.5 in /usr/local/lib/python3.7/dist-packages (from requests[socks]->gdown) (2.10)\n",
            "Requirement already satisfied: urllib3!=1.25.0,!=1.25.1,<1.26,>=1.21.1 in /usr/local/lib/python3.7/dist-packages (from requests[socks]->gdown) (1.24.3)\n",
            "Requirement already satisfied: chardet<4,>=3.0.2 in /usr/local/lib/python3.7/dist-packages (from requests[socks]->gdown) (3.0.4)\n",
            "Requirement already satisfied: PySocks!=1.5.7,>=1.5.6 in /usr/local/lib/python3.7/dist-packages (from requests[socks]->gdown) (1.7.1)\n",
            "Building wheels for collected packages: gdown\n",
            "  Building wheel for gdown (PEP 517) ... \u001b[?25l\u001b[?25hdone\n",
            "  Created wheel for gdown: filename=gdown-4.4.0-py3-none-any.whl size=14774 sha256=56974f6e028005dbb10f4e3308c9a29083944676af30ea17e34edca38e31def4\n",
            "  Stored in directory: /tmp/pip-ephem-wheel-cache-2iicq06r/wheels/fb/c3/0e/c4d8ff8bfcb0461afff199471449f642179b74968c15b7a69c\n",
            "Successfully built gdown\n",
            "Installing collected packages: gdown\n",
            "  Attempting uninstall: gdown\n",
            "    Found existing installation: gdown 4.2.2\n",
            "    Uninstalling gdown-4.2.2:\n",
            "      Successfully uninstalled gdown-4.2.2\n",
            "Successfully installed gdown-4.4.0\n",
            "/usr/local/lib/python3.7/dist-packages/gdown/cli.py:131: FutureWarning: Option `--id` was deprecated in version 4.3.1 and will be removed in 5.0. You don't need to pass it anymore to use a file ID.\n",
            "  category=FutureWarning,\n",
            "Downloading...\n",
            "From: https://drive.google.com/uc?id=1y1BXUZPKDke_LpL7Lmgr4v1WzOrGg1qw\n",
            "To: /content/HW2_dataset.zip\n",
            "100% 6.43G/6.43G [00:27<00:00, 232MB/s]\n",
            "Archive:  ./HW2_dataset.zip\n",
            "   creating: ./products_parquet/\n",
            "  inflating: ./products_parquet/.part-00000-0f978a44-491b-411b-9bf5-266bd9d4e836-c000.snappy.parquet.crc  \n",
            "  inflating: ./products_parquet/.part-00001-0f978a44-491b-411b-9bf5-266bd9d4e836-c000.snappy.parquet.crc  \n",
            "  inflating: ./products_parquet/.part-00002-0f978a44-491b-411b-9bf5-266bd9d4e836-c000.snappy.parquet.crc  \n",
            "  inflating: ./products_parquet/.part-00003-0f978a44-491b-411b-9bf5-266bd9d4e836-c000.snappy.parquet.crc  \n",
            "  inflating: ./products_parquet/.part-00004-0f978a44-491b-411b-9bf5-266bd9d4e836-c000.snappy.parquet.crc  \n",
            "  inflating: ./products_parquet/.part-00005-0f978a44-491b-411b-9bf5-266bd9d4e836-c000.snappy.parquet.crc  \n",
            "  inflating: ./products_parquet/.part-00006-0f978a44-491b-411b-9bf5-266bd9d4e836-c000.snappy.parquet.crc  \n",
            "  inflating: ./products_parquet/.part-00007-0f978a44-491b-411b-9bf5-266bd9d4e836-c000.snappy.parquet.crc  \n",
            "  inflating: ./products_parquet/.part-00008-0f978a44-491b-411b-9bf5-266bd9d4e836-c000.snappy.parquet.crc  \n",
            "  inflating: ./products_parquet/.part-00009-0f978a44-491b-411b-9bf5-266bd9d4e836-c000.snappy.parquet.crc  \n",
            "  inflating: ./products_parquet/.part-00010-0f978a44-491b-411b-9bf5-266bd9d4e836-c000.snappy.parquet.crc  \n",
            "  inflating: ./products_parquet/.part-00011-0f978a44-491b-411b-9bf5-266bd9d4e836-c000.snappy.parquet.crc  \n",
            "  inflating: ./products_parquet/.part-00012-0f978a44-491b-411b-9bf5-266bd9d4e836-c000.snappy.parquet.crc  \n",
            "  inflating: ./products_parquet/.part-00013-0f978a44-491b-411b-9bf5-266bd9d4e836-c000.snappy.parquet.crc  \n",
            "  inflating: ./products_parquet/.part-00014-0f978a44-491b-411b-9bf5-266bd9d4e836-c000.snappy.parquet.crc  \n",
            "  inflating: ./products_parquet/.part-00015-0f978a44-491b-411b-9bf5-266bd9d4e836-c000.snappy.parquet.crc  \n",
            "  inflating: ./products_parquet/.part-00016-0f978a44-491b-411b-9bf5-266bd9d4e836-c000.snappy.parquet.crc  \n",
            " extracting: ./products_parquet/._SUCCESS.crc  \n",
            "  inflating: ./products_parquet/part-00000-0f978a44-491b-411b-9bf5-266bd9d4e836-c000.snappy.parquet  \n",
            "  inflating: ./products_parquet/part-00001-0f978a44-491b-411b-9bf5-266bd9d4e836-c000.snappy.parquet  \n",
            "  inflating: ./products_parquet/part-00002-0f978a44-491b-411b-9bf5-266bd9d4e836-c000.snappy.parquet  \n",
            "  inflating: ./products_parquet/part-00003-0f978a44-491b-411b-9bf5-266bd9d4e836-c000.snappy.parquet  \n",
            "  inflating: ./products_parquet/part-00004-0f978a44-491b-411b-9bf5-266bd9d4e836-c000.snappy.parquet  \n",
            "  inflating: ./products_parquet/part-00005-0f978a44-491b-411b-9bf5-266bd9d4e836-c000.snappy.parquet  \n",
            "  inflating: ./products_parquet/part-00006-0f978a44-491b-411b-9bf5-266bd9d4e836-c000.snappy.parquet  \n",
            "  inflating: ./products_parquet/part-00007-0f978a44-491b-411b-9bf5-266bd9d4e836-c000.snappy.parquet  \n",
            "  inflating: ./products_parquet/part-00008-0f978a44-491b-411b-9bf5-266bd9d4e836-c000.snappy.parquet  \n",
            "  inflating: ./products_parquet/part-00009-0f978a44-491b-411b-9bf5-266bd9d4e836-c000.snappy.parquet  \n",
            "  inflating: ./products_parquet/part-00010-0f978a44-491b-411b-9bf5-266bd9d4e836-c000.snappy.parquet  \n",
            "  inflating: ./products_parquet/part-00011-0f978a44-491b-411b-9bf5-266bd9d4e836-c000.snappy.parquet  \n",
            "  inflating: ./products_parquet/part-00012-0f978a44-491b-411b-9bf5-266bd9d4e836-c000.snappy.parquet  \n",
            "  inflating: ./products_parquet/part-00013-0f978a44-491b-411b-9bf5-266bd9d4e836-c000.snappy.parquet  \n",
            "  inflating: ./products_parquet/part-00014-0f978a44-491b-411b-9bf5-266bd9d4e836-c000.snappy.parquet  \n",
            "  inflating: ./products_parquet/part-00015-0f978a44-491b-411b-9bf5-266bd9d4e836-c000.snappy.parquet  \n",
            "  inflating: ./products_parquet/part-00016-0f978a44-491b-411b-9bf5-266bd9d4e836-c000.snappy.parquet  \n",
            " extracting: ./products_parquet/_SUCCESS  \n",
            "   creating: ./sales_parquet/\n",
            " extracting: ./sales_parquet/.part-00000-e651a798-938c-4056-96ac-b29d9c3b497e-c000.snappy.parquet.crc  \n",
            " extracting: ./sales_parquet/.part-00001-e651a798-938c-4056-96ac-b29d9c3b497e-c000.snappy.parquet.crc  \n",
            " extracting: ./sales_parquet/.part-00002-e651a798-938c-4056-96ac-b29d9c3b497e-c000.snappy.parquet.crc  \n",
            " extracting: ./sales_parquet/.part-00003-e651a798-938c-4056-96ac-b29d9c3b497e-c000.snappy.parquet.crc  \n",
            " extracting: ./sales_parquet/.part-00004-e651a798-938c-4056-96ac-b29d9c3b497e-c000.snappy.parquet.crc  \n",
            " extracting: ./sales_parquet/.part-00005-e651a798-938c-4056-96ac-b29d9c3b497e-c000.snappy.parquet.crc  \n",
            " extracting: ./sales_parquet/.part-00006-e651a798-938c-4056-96ac-b29d9c3b497e-c000.snappy.parquet.crc  \n",
            " extracting: ./sales_parquet/.part-00007-e651a798-938c-4056-96ac-b29d9c3b497e-c000.snappy.parquet.crc  \n",
            " extracting: ./sales_parquet/.part-00008-e651a798-938c-4056-96ac-b29d9c3b497e-c000.snappy.parquet.crc  \n",
            " extracting: ./sales_parquet/.part-00009-e651a798-938c-4056-96ac-b29d9c3b497e-c000.snappy.parquet.crc  \n",
            " extracting: ./sales_parquet/.part-00010-e651a798-938c-4056-96ac-b29d9c3b497e-c000.snappy.parquet.crc  \n",
            " extracting: ./sales_parquet/.part-00011-e651a798-938c-4056-96ac-b29d9c3b497e-c000.snappy.parquet.crc  \n",
            " extracting: ./sales_parquet/.part-00012-e651a798-938c-4056-96ac-b29d9c3b497e-c000.snappy.parquet.crc  \n",
            " extracting: ./sales_parquet/.part-00013-e651a798-938c-4056-96ac-b29d9c3b497e-c000.snappy.parquet.crc  \n",
            " extracting: ./sales_parquet/.part-00014-e651a798-938c-4056-96ac-b29d9c3b497e-c000.snappy.parquet.crc  \n",
            " extracting: ./sales_parquet/.part-00015-e651a798-938c-4056-96ac-b29d9c3b497e-c000.snappy.parquet.crc  \n",
            " extracting: ./sales_parquet/.part-00016-e651a798-938c-4056-96ac-b29d9c3b497e-c000.snappy.parquet.crc  \n",
            " extracting: ./sales_parquet/.part-00017-e651a798-938c-4056-96ac-b29d9c3b497e-c000.snappy.parquet.crc  \n",
            " extracting: ./sales_parquet/.part-00018-e651a798-938c-4056-96ac-b29d9c3b497e-c000.snappy.parquet.crc  \n",
            " extracting: ./sales_parquet/.part-00019-e651a798-938c-4056-96ac-b29d9c3b497e-c000.snappy.parquet.crc  \n",
            " extracting: ./sales_parquet/.part-00020-e651a798-938c-4056-96ac-b29d9c3b497e-c000.snappy.parquet.crc  \n",
            " extracting: ./sales_parquet/.part-00021-e651a798-938c-4056-96ac-b29d9c3b497e-c000.snappy.parquet.crc  \n",
            " extracting: ./sales_parquet/.part-00022-e651a798-938c-4056-96ac-b29d9c3b497e-c000.snappy.parquet.crc  \n",
            " extracting: ./sales_parquet/.part-00023-e651a798-938c-4056-96ac-b29d9c3b497e-c000.snappy.parquet.crc  \n",
            " extracting: ./sales_parquet/.part-00024-e651a798-938c-4056-96ac-b29d9c3b497e-c000.snappy.parquet.crc  \n",
            " extracting: ./sales_parquet/.part-00025-e651a798-938c-4056-96ac-b29d9c3b497e-c000.snappy.parquet.crc  \n",
            " extracting: ./sales_parquet/.part-00026-e651a798-938c-4056-96ac-b29d9c3b497e-c000.snappy.parquet.crc  \n",
            " extracting: ./sales_parquet/.part-00027-e651a798-938c-4056-96ac-b29d9c3b497e-c000.snappy.parquet.crc  \n",
            " extracting: ./sales_parquet/.part-00028-e651a798-938c-4056-96ac-b29d9c3b497e-c000.snappy.parquet.crc  \n",
            " extracting: ./sales_parquet/.part-00029-e651a798-938c-4056-96ac-b29d9c3b497e-c000.snappy.parquet.crc  \n",
            " extracting: ./sales_parquet/.part-00030-e651a798-938c-4056-96ac-b29d9c3b497e-c000.snappy.parquet.crc  \n",
            " extracting: ./sales_parquet/.part-00031-e651a798-938c-4056-96ac-b29d9c3b497e-c000.snappy.parquet.crc  \n",
            " extracting: ./sales_parquet/.part-00032-e651a798-938c-4056-96ac-b29d9c3b497e-c000.snappy.parquet.crc  \n",
            " extracting: ./sales_parquet/.part-00033-e651a798-938c-4056-96ac-b29d9c3b497e-c000.snappy.parquet.crc  \n",
            " extracting: ./sales_parquet/.part-00034-e651a798-938c-4056-96ac-b29d9c3b497e-c000.snappy.parquet.crc  \n",
            " extracting: ./sales_parquet/.part-00035-e651a798-938c-4056-96ac-b29d9c3b497e-c000.snappy.parquet.crc  \n",
            " extracting: ./sales_parquet/.part-00036-e651a798-938c-4056-96ac-b29d9c3b497e-c000.snappy.parquet.crc  \n",
            " extracting: ./sales_parquet/.part-00037-e651a798-938c-4056-96ac-b29d9c3b497e-c000.snappy.parquet.crc  \n",
            " extracting: ./sales_parquet/.part-00038-e651a798-938c-4056-96ac-b29d9c3b497e-c000.snappy.parquet.crc  \n",
            " extracting: ./sales_parquet/.part-00039-e651a798-938c-4056-96ac-b29d9c3b497e-c000.snappy.parquet.crc  \n",
            " extracting: ./sales_parquet/.part-00040-e651a798-938c-4056-96ac-b29d9c3b497e-c000.snappy.parquet.crc  \n",
            " extracting: ./sales_parquet/.part-00041-e651a798-938c-4056-96ac-b29d9c3b497e-c000.snappy.parquet.crc  \n",
            " extracting: ./sales_parquet/.part-00042-e651a798-938c-4056-96ac-b29d9c3b497e-c000.snappy.parquet.crc  \n",
            " extracting: ./sales_parquet/.part-00043-e651a798-938c-4056-96ac-b29d9c3b497e-c000.snappy.parquet.crc  \n",
            " extracting: ./sales_parquet/.part-00044-e651a798-938c-4056-96ac-b29d9c3b497e-c000.snappy.parquet.crc  \n",
            " extracting: ./sales_parquet/.part-00045-e651a798-938c-4056-96ac-b29d9c3b497e-c000.snappy.parquet.crc  \n",
            " extracting: ./sales_parquet/.part-00046-e651a798-938c-4056-96ac-b29d9c3b497e-c000.snappy.parquet.crc  \n",
            " extracting: ./sales_parquet/.part-00047-e651a798-938c-4056-96ac-b29d9c3b497e-c000.snappy.parquet.crc  \n",
            " extracting: ./sales_parquet/.part-00048-e651a798-938c-4056-96ac-b29d9c3b497e-c000.snappy.parquet.crc  \n",
            " extracting: ./sales_parquet/.part-00049-e651a798-938c-4056-96ac-b29d9c3b497e-c000.snappy.parquet.crc  \n",
            " extracting: ./sales_parquet/.part-00050-e651a798-938c-4056-96ac-b29d9c3b497e-c000.snappy.parquet.crc  \n",
            " extracting: ./sales_parquet/.part-00051-e651a798-938c-4056-96ac-b29d9c3b497e-c000.snappy.parquet.crc  \n",
            " extracting: ./sales_parquet/.part-00052-e651a798-938c-4056-96ac-b29d9c3b497e-c000.snappy.parquet.crc  \n",
            " extracting: ./sales_parquet/.part-00053-e651a798-938c-4056-96ac-b29d9c3b497e-c000.snappy.parquet.crc  \n",
            " extracting: ./sales_parquet/.part-00054-e651a798-938c-4056-96ac-b29d9c3b497e-c000.snappy.parquet.crc  \n",
            " extracting: ./sales_parquet/.part-00055-e651a798-938c-4056-96ac-b29d9c3b497e-c000.snappy.parquet.crc  \n",
            " extracting: ./sales_parquet/.part-00056-e651a798-938c-4056-96ac-b29d9c3b497e-c000.snappy.parquet.crc  \n",
            " extracting: ./sales_parquet/.part-00057-e651a798-938c-4056-96ac-b29d9c3b497e-c000.snappy.parquet.crc  \n",
            " extracting: ./sales_parquet/.part-00058-e651a798-938c-4056-96ac-b29d9c3b497e-c000.snappy.parquet.crc  \n",
            " extracting: ./sales_parquet/.part-00059-e651a798-938c-4056-96ac-b29d9c3b497e-c000.snappy.parquet.crc  \n",
            " extracting: ./sales_parquet/.part-00060-e651a798-938c-4056-96ac-b29d9c3b497e-c000.snappy.parquet.crc  \n",
            " extracting: ./sales_parquet/.part-00061-e651a798-938c-4056-96ac-b29d9c3b497e-c000.snappy.parquet.crc  \n",
            " extracting: ./sales_parquet/.part-00062-e651a798-938c-4056-96ac-b29d9c3b497e-c000.snappy.parquet.crc  \n",
            " extracting: ./sales_parquet/.part-00063-e651a798-938c-4056-96ac-b29d9c3b497e-c000.snappy.parquet.crc  \n",
            " extracting: ./sales_parquet/.part-00064-e651a798-938c-4056-96ac-b29d9c3b497e-c000.snappy.parquet.crc  \n",
            " extracting: ./sales_parquet/.part-00065-e651a798-938c-4056-96ac-b29d9c3b497e-c000.snappy.parquet.crc  \n",
            " extracting: ./sales_parquet/.part-00066-e651a798-938c-4056-96ac-b29d9c3b497e-c000.snappy.parquet.crc  \n",
            " extracting: ./sales_parquet/.part-00067-e651a798-938c-4056-96ac-b29d9c3b497e-c000.snappy.parquet.crc  \n",
            " extracting: ./sales_parquet/.part-00068-e651a798-938c-4056-96ac-b29d9c3b497e-c000.snappy.parquet.crc  \n",
            " extracting: ./sales_parquet/.part-00069-e651a798-938c-4056-96ac-b29d9c3b497e-c000.snappy.parquet.crc  \n",
            " extracting: ./sales_parquet/.part-00070-e651a798-938c-4056-96ac-b29d9c3b497e-c000.snappy.parquet.crc  \n",
            " extracting: ./sales_parquet/.part-00071-e651a798-938c-4056-96ac-b29d9c3b497e-c000.snappy.parquet.crc  \n",
            " extracting: ./sales_parquet/.part-00072-e651a798-938c-4056-96ac-b29d9c3b497e-c000.snappy.parquet.crc  \n",
            " extracting: ./sales_parquet/.part-00073-e651a798-938c-4056-96ac-b29d9c3b497e-c000.snappy.parquet.crc  \n",
            " extracting: ./sales_parquet/.part-00074-e651a798-938c-4056-96ac-b29d9c3b497e-c000.snappy.parquet.crc  \n",
            " extracting: ./sales_parquet/.part-00075-e651a798-938c-4056-96ac-b29d9c3b497e-c000.snappy.parquet.crc  \n",
            " extracting: ./sales_parquet/.part-00076-e651a798-938c-4056-96ac-b29d9c3b497e-c000.snappy.parquet.crc  \n",
            " extracting: ./sales_parquet/.part-00077-e651a798-938c-4056-96ac-b29d9c3b497e-c000.snappy.parquet.crc  \n",
            " extracting: ./sales_parquet/.part-00078-e651a798-938c-4056-96ac-b29d9c3b497e-c000.snappy.parquet.crc  \n",
            " extracting: ./sales_parquet/.part-00079-e651a798-938c-4056-96ac-b29d9c3b497e-c000.snappy.parquet.crc  \n",
            " extracting: ./sales_parquet/.part-00080-e651a798-938c-4056-96ac-b29d9c3b497e-c000.snappy.parquet.crc  \n",
            " extracting: ./sales_parquet/.part-00081-e651a798-938c-4056-96ac-b29d9c3b497e-c000.snappy.parquet.crc  \n",
            " extracting: ./sales_parquet/.part-00082-e651a798-938c-4056-96ac-b29d9c3b497e-c000.snappy.parquet.crc  \n",
            " extracting: ./sales_parquet/.part-00083-e651a798-938c-4056-96ac-b29d9c3b497e-c000.snappy.parquet.crc  \n",
            " extracting: ./sales_parquet/.part-00084-e651a798-938c-4056-96ac-b29d9c3b497e-c000.snappy.parquet.crc  \n",
            " extracting: ./sales_parquet/.part-00085-e651a798-938c-4056-96ac-b29d9c3b497e-c000.snappy.parquet.crc  \n",
            " extracting: ./sales_parquet/.part-00086-e651a798-938c-4056-96ac-b29d9c3b497e-c000.snappy.parquet.crc  \n",
            " extracting: ./sales_parquet/.part-00087-e651a798-938c-4056-96ac-b29d9c3b497e-c000.snappy.parquet.crc  \n",
            " extracting: ./sales_parquet/.part-00088-e651a798-938c-4056-96ac-b29d9c3b497e-c000.snappy.parquet.crc  \n",
            " extracting: ./sales_parquet/.part-00089-e651a798-938c-4056-96ac-b29d9c3b497e-c000.snappy.parquet.crc  \n",
            " extracting: ./sales_parquet/.part-00090-e651a798-938c-4056-96ac-b29d9c3b497e-c000.snappy.parquet.crc  \n",
            " extracting: ./sales_parquet/.part-00091-e651a798-938c-4056-96ac-b29d9c3b497e-c000.snappy.parquet.crc  \n",
            " extracting: ./sales_parquet/.part-00092-e651a798-938c-4056-96ac-b29d9c3b497e-c000.snappy.parquet.crc  \n",
            " extracting: ./sales_parquet/.part-00093-e651a798-938c-4056-96ac-b29d9c3b497e-c000.snappy.parquet.crc  \n",
            " extracting: ./sales_parquet/.part-00094-e651a798-938c-4056-96ac-b29d9c3b497e-c000.snappy.parquet.crc  \n",
            " extracting: ./sales_parquet/.part-00095-e651a798-938c-4056-96ac-b29d9c3b497e-c000.snappy.parquet.crc  \n",
            " extracting: ./sales_parquet/.part-00096-e651a798-938c-4056-96ac-b29d9c3b497e-c000.snappy.parquet.crc  \n",
            " extracting: ./sales_parquet/.part-00097-e651a798-938c-4056-96ac-b29d9c3b497e-c000.snappy.parquet.crc  \n",
            " extracting: ./sales_parquet/.part-00098-e651a798-938c-4056-96ac-b29d9c3b497e-c000.snappy.parquet.crc  \n",
            " extracting: ./sales_parquet/.part-00099-e651a798-938c-4056-96ac-b29d9c3b497e-c000.snappy.parquet.crc  \n",
            " extracting: ./sales_parquet/.part-00100-e651a798-938c-4056-96ac-b29d9c3b497e-c000.snappy.parquet.crc  \n",
            " extracting: ./sales_parquet/.part-00101-e651a798-938c-4056-96ac-b29d9c3b497e-c000.snappy.parquet.crc  \n",
            " extracting: ./sales_parquet/.part-00102-e651a798-938c-4056-96ac-b29d9c3b497e-c000.snappy.parquet.crc  \n",
            " extracting: ./sales_parquet/.part-00103-e651a798-938c-4056-96ac-b29d9c3b497e-c000.snappy.parquet.crc  \n",
            " extracting: ./sales_parquet/.part-00104-e651a798-938c-4056-96ac-b29d9c3b497e-c000.snappy.parquet.crc  \n",
            " extracting: ./sales_parquet/.part-00105-e651a798-938c-4056-96ac-b29d9c3b497e-c000.snappy.parquet.crc  \n",
            " extracting: ./sales_parquet/.part-00106-e651a798-938c-4056-96ac-b29d9c3b497e-c000.snappy.parquet.crc  \n",
            " extracting: ./sales_parquet/.part-00107-e651a798-938c-4056-96ac-b29d9c3b497e-c000.snappy.parquet.crc  \n",
            " extracting: ./sales_parquet/.part-00108-e651a798-938c-4056-96ac-b29d9c3b497e-c000.snappy.parquet.crc  \n",
            " extracting: ./sales_parquet/.part-00109-e651a798-938c-4056-96ac-b29d9c3b497e-c000.snappy.parquet.crc  \n",
            " extracting: ./sales_parquet/.part-00110-e651a798-938c-4056-96ac-b29d9c3b497e-c000.snappy.parquet.crc  \n",
            " extracting: ./sales_parquet/.part-00111-e651a798-938c-4056-96ac-b29d9c3b497e-c000.snappy.parquet.crc  \n",
            " extracting: ./sales_parquet/.part-00112-e651a798-938c-4056-96ac-b29d9c3b497e-c000.snappy.parquet.crc  \n",
            " extracting: ./sales_parquet/.part-00113-e651a798-938c-4056-96ac-b29d9c3b497e-c000.snappy.parquet.crc  \n",
            " extracting: ./sales_parquet/.part-00114-e651a798-938c-4056-96ac-b29d9c3b497e-c000.snappy.parquet.crc  \n",
            " extracting: ./sales_parquet/.part-00115-e651a798-938c-4056-96ac-b29d9c3b497e-c000.snappy.parquet.crc  \n",
            " extracting: ./sales_parquet/.part-00116-e651a798-938c-4056-96ac-b29d9c3b497e-c000.snappy.parquet.crc  \n",
            " extracting: ./sales_parquet/.part-00117-e651a798-938c-4056-96ac-b29d9c3b497e-c000.snappy.parquet.crc  \n",
            " extracting: ./sales_parquet/.part-00118-e651a798-938c-4056-96ac-b29d9c3b497e-c000.snappy.parquet.crc  \n",
            " extracting: ./sales_parquet/.part-00119-e651a798-938c-4056-96ac-b29d9c3b497e-c000.snappy.parquet.crc  \n",
            " extracting: ./sales_parquet/.part-00120-e651a798-938c-4056-96ac-b29d9c3b497e-c000.snappy.parquet.crc  \n",
            " extracting: ./sales_parquet/.part-00121-e651a798-938c-4056-96ac-b29d9c3b497e-c000.snappy.parquet.crc  \n",
            " extracting: ./sales_parquet/.part-00122-e651a798-938c-4056-96ac-b29d9c3b497e-c000.snappy.parquet.crc  \n",
            " extracting: ./sales_parquet/.part-00123-e651a798-938c-4056-96ac-b29d9c3b497e-c000.snappy.parquet.crc  \n",
            " extracting: ./sales_parquet/.part-00124-e651a798-938c-4056-96ac-b29d9c3b497e-c000.snappy.parquet.crc  \n",
            " extracting: ./sales_parquet/.part-00125-e651a798-938c-4056-96ac-b29d9c3b497e-c000.snappy.parquet.crc  \n",
            " extracting: ./sales_parquet/.part-00126-e651a798-938c-4056-96ac-b29d9c3b497e-c000.snappy.parquet.crc  \n",
            " extracting: ./sales_parquet/.part-00127-e651a798-938c-4056-96ac-b29d9c3b497e-c000.snappy.parquet.crc  \n",
            " extracting: ./sales_parquet/.part-00128-e651a798-938c-4056-96ac-b29d9c3b497e-c000.snappy.parquet.crc  \n",
            " extracting: ./sales_parquet/.part-00129-e651a798-938c-4056-96ac-b29d9c3b497e-c000.snappy.parquet.crc  \n",
            " extracting: ./sales_parquet/.part-00130-e651a798-938c-4056-96ac-b29d9c3b497e-c000.snappy.parquet.crc  \n",
            " extracting: ./sales_parquet/.part-00131-e651a798-938c-4056-96ac-b29d9c3b497e-c000.snappy.parquet.crc  \n",
            " extracting: ./sales_parquet/.part-00132-e651a798-938c-4056-96ac-b29d9c3b497e-c000.snappy.parquet.crc  \n",
            " extracting: ./sales_parquet/.part-00133-e651a798-938c-4056-96ac-b29d9c3b497e-c000.snappy.parquet.crc  \n",
            " extracting: ./sales_parquet/.part-00134-e651a798-938c-4056-96ac-b29d9c3b497e-c000.snappy.parquet.crc  \n",
            " extracting: ./sales_parquet/.part-00135-e651a798-938c-4056-96ac-b29d9c3b497e-c000.snappy.parquet.crc  \n",
            " extracting: ./sales_parquet/.part-00136-e651a798-938c-4056-96ac-b29d9c3b497e-c000.snappy.parquet.crc  \n",
            " extracting: ./sales_parquet/.part-00137-e651a798-938c-4056-96ac-b29d9c3b497e-c000.snappy.parquet.crc  \n",
            " extracting: ./sales_parquet/.part-00138-e651a798-938c-4056-96ac-b29d9c3b497e-c000.snappy.parquet.crc  \n",
            " extracting: ./sales_parquet/.part-00139-e651a798-938c-4056-96ac-b29d9c3b497e-c000.snappy.parquet.crc  \n",
            " extracting: ./sales_parquet/.part-00140-e651a798-938c-4056-96ac-b29d9c3b497e-c000.snappy.parquet.crc  \n",
            " extracting: ./sales_parquet/.part-00141-e651a798-938c-4056-96ac-b29d9c3b497e-c000.snappy.parquet.crc  \n",
            " extracting: ./sales_parquet/.part-00142-e651a798-938c-4056-96ac-b29d9c3b497e-c000.snappy.parquet.crc  \n",
            " extracting: ./sales_parquet/.part-00143-e651a798-938c-4056-96ac-b29d9c3b497e-c000.snappy.parquet.crc  \n",
            " extracting: ./sales_parquet/.part-00144-e651a798-938c-4056-96ac-b29d9c3b497e-c000.snappy.parquet.crc  \n",
            " extracting: ./sales_parquet/.part-00145-e651a798-938c-4056-96ac-b29d9c3b497e-c000.snappy.parquet.crc  \n",
            " extracting: ./sales_parquet/.part-00146-e651a798-938c-4056-96ac-b29d9c3b497e-c000.snappy.parquet.crc  \n",
            " extracting: ./sales_parquet/.part-00147-e651a798-938c-4056-96ac-b29d9c3b497e-c000.snappy.parquet.crc  \n",
            " extracting: ./sales_parquet/.part-00148-e651a798-938c-4056-96ac-b29d9c3b497e-c000.snappy.parquet.crc  \n",
            " extracting: ./sales_parquet/.part-00149-e651a798-938c-4056-96ac-b29d9c3b497e-c000.snappy.parquet.crc  \n",
            " extracting: ./sales_parquet/.part-00150-e651a798-938c-4056-96ac-b29d9c3b497e-c000.snappy.parquet.crc  \n",
            " extracting: ./sales_parquet/.part-00151-e651a798-938c-4056-96ac-b29d9c3b497e-c000.snappy.parquet.crc  \n",
            " extracting: ./sales_parquet/.part-00152-e651a798-938c-4056-96ac-b29d9c3b497e-c000.snappy.parquet.crc  \n",
            " extracting: ./sales_parquet/.part-00153-e651a798-938c-4056-96ac-b29d9c3b497e-c000.snappy.parquet.crc  \n",
            " extracting: ./sales_parquet/.part-00154-e651a798-938c-4056-96ac-b29d9c3b497e-c000.snappy.parquet.crc  \n",
            " extracting: ./sales_parquet/.part-00155-e651a798-938c-4056-96ac-b29d9c3b497e-c000.snappy.parquet.crc  \n",
            " extracting: ./sales_parquet/.part-00156-e651a798-938c-4056-96ac-b29d9c3b497e-c000.snappy.parquet.crc  \n",
            " extracting: ./sales_parquet/.part-00157-e651a798-938c-4056-96ac-b29d9c3b497e-c000.snappy.parquet.crc  \n",
            " extracting: ./sales_parquet/.part-00158-e651a798-938c-4056-96ac-b29d9c3b497e-c000.snappy.parquet.crc  \n",
            " extracting: ./sales_parquet/.part-00159-e651a798-938c-4056-96ac-b29d9c3b497e-c000.snappy.parquet.crc  \n",
            " extracting: ./sales_parquet/.part-00160-e651a798-938c-4056-96ac-b29d9c3b497e-c000.snappy.parquet.crc  \n",
            " extracting: ./sales_parquet/.part-00161-e651a798-938c-4056-96ac-b29d9c3b497e-c000.snappy.parquet.crc  \n",
            " extracting: ./sales_parquet/.part-00162-e651a798-938c-4056-96ac-b29d9c3b497e-c000.snappy.parquet.crc  \n",
            " extracting: ./sales_parquet/.part-00163-e651a798-938c-4056-96ac-b29d9c3b497e-c000.snappy.parquet.crc  \n",
            " extracting: ./sales_parquet/.part-00164-e651a798-938c-4056-96ac-b29d9c3b497e-c000.snappy.parquet.crc  \n",
            " extracting: ./sales_parquet/.part-00165-e651a798-938c-4056-96ac-b29d9c3b497e-c000.snappy.parquet.crc  \n",
            " extracting: ./sales_parquet/.part-00166-e651a798-938c-4056-96ac-b29d9c3b497e-c000.snappy.parquet.crc  \n",
            " extracting: ./sales_parquet/.part-00167-e651a798-938c-4056-96ac-b29d9c3b497e-c000.snappy.parquet.crc  \n",
            " extracting: ./sales_parquet/.part-00168-e651a798-938c-4056-96ac-b29d9c3b497e-c000.snappy.parquet.crc  \n",
            " extracting: ./sales_parquet/.part-00169-e651a798-938c-4056-96ac-b29d9c3b497e-c000.snappy.parquet.crc  \n",
            " extracting: ./sales_parquet/.part-00170-e651a798-938c-4056-96ac-b29d9c3b497e-c000.snappy.parquet.crc  \n",
            " extracting: ./sales_parquet/.part-00171-e651a798-938c-4056-96ac-b29d9c3b497e-c000.snappy.parquet.crc  \n",
            " extracting: ./sales_parquet/.part-00172-e651a798-938c-4056-96ac-b29d9c3b497e-c000.snappy.parquet.crc  \n",
            " extracting: ./sales_parquet/.part-00173-e651a798-938c-4056-96ac-b29d9c3b497e-c000.snappy.parquet.crc  \n",
            " extracting: ./sales_parquet/.part-00174-e651a798-938c-4056-96ac-b29d9c3b497e-c000.snappy.parquet.crc  \n",
            " extracting: ./sales_parquet/.part-00175-e651a798-938c-4056-96ac-b29d9c3b497e-c000.snappy.parquet.crc  \n",
            " extracting: ./sales_parquet/.part-00176-e651a798-938c-4056-96ac-b29d9c3b497e-c000.snappy.parquet.crc  \n",
            " extracting: ./sales_parquet/.part-00177-e651a798-938c-4056-96ac-b29d9c3b497e-c000.snappy.parquet.crc  \n",
            " extracting: ./sales_parquet/.part-00178-e651a798-938c-4056-96ac-b29d9c3b497e-c000.snappy.parquet.crc  \n",
            " extracting: ./sales_parquet/.part-00179-e651a798-938c-4056-96ac-b29d9c3b497e-c000.snappy.parquet.crc  \n",
            " extracting: ./sales_parquet/.part-00180-e651a798-938c-4056-96ac-b29d9c3b497e-c000.snappy.parquet.crc  \n",
            " extracting: ./sales_parquet/.part-00181-e651a798-938c-4056-96ac-b29d9c3b497e-c000.snappy.parquet.crc  \n",
            " extracting: ./sales_parquet/.part-00182-e651a798-938c-4056-96ac-b29d9c3b497e-c000.snappy.parquet.crc  \n",
            " extracting: ./sales_parquet/.part-00183-e651a798-938c-4056-96ac-b29d9c3b497e-c000.snappy.parquet.crc  \n",
            " extracting: ./sales_parquet/.part-00184-e651a798-938c-4056-96ac-b29d9c3b497e-c000.snappy.parquet.crc  \n",
            " extracting: ./sales_parquet/.part-00185-e651a798-938c-4056-96ac-b29d9c3b497e-c000.snappy.parquet.crc  \n",
            " extracting: ./sales_parquet/.part-00186-e651a798-938c-4056-96ac-b29d9c3b497e-c000.snappy.parquet.crc  \n",
            " extracting: ./sales_parquet/.part-00187-e651a798-938c-4056-96ac-b29d9c3b497e-c000.snappy.parquet.crc  \n",
            " extracting: ./sales_parquet/.part-00188-e651a798-938c-4056-96ac-b29d9c3b497e-c000.snappy.parquet.crc  \n",
            " extracting: ./sales_parquet/.part-00189-e651a798-938c-4056-96ac-b29d9c3b497e-c000.snappy.parquet.crc  \n",
            " extracting: ./sales_parquet/.part-00190-e651a798-938c-4056-96ac-b29d9c3b497e-c000.snappy.parquet.crc  \n",
            " extracting: ./sales_parquet/.part-00191-e651a798-938c-4056-96ac-b29d9c3b497e-c000.snappy.parquet.crc  \n",
            " extracting: ./sales_parquet/.part-00192-e651a798-938c-4056-96ac-b29d9c3b497e-c000.snappy.parquet.crc  \n",
            " extracting: ./sales_parquet/.part-00193-e651a798-938c-4056-96ac-b29d9c3b497e-c000.snappy.parquet.crc  \n",
            " extracting: ./sales_parquet/.part-00194-e651a798-938c-4056-96ac-b29d9c3b497e-c000.snappy.parquet.crc  \n",
            " extracting: ./sales_parquet/.part-00195-e651a798-938c-4056-96ac-b29d9c3b497e-c000.snappy.parquet.crc  \n",
            " extracting: ./sales_parquet/.part-00196-e651a798-938c-4056-96ac-b29d9c3b497e-c000.snappy.parquet.crc  \n",
            " extracting: ./sales_parquet/.part-00197-e651a798-938c-4056-96ac-b29d9c3b497e-c000.snappy.parquet.crc  \n",
            " extracting: ./sales_parquet/.part-00198-e651a798-938c-4056-96ac-b29d9c3b497e-c000.snappy.parquet.crc  \n",
            " extracting: ./sales_parquet/.part-00199-e651a798-938c-4056-96ac-b29d9c3b497e-c000.snappy.parquet.crc  \n",
            " extracting: ./sales_parquet/._SUCCESS.crc  \n",
            "  inflating: ./sales_parquet/part-00000-e651a798-938c-4056-96ac-b29d9c3b497e-c000.snappy.parquet  \n",
            "  inflating: ./sales_parquet/part-00001-e651a798-938c-4056-96ac-b29d9c3b497e-c000.snappy.parquet  \n",
            "  inflating: ./sales_parquet/part-00002-e651a798-938c-4056-96ac-b29d9c3b497e-c000.snappy.parquet  \n",
            "  inflating: ./sales_parquet/part-00003-e651a798-938c-4056-96ac-b29d9c3b497e-c000.snappy.parquet  \n",
            "  inflating: ./sales_parquet/part-00004-e651a798-938c-4056-96ac-b29d9c3b497e-c000.snappy.parquet  \n",
            "  inflating: ./sales_parquet/part-00005-e651a798-938c-4056-96ac-b29d9c3b497e-c000.snappy.parquet  \n",
            "  inflating: ./sales_parquet/part-00006-e651a798-938c-4056-96ac-b29d9c3b497e-c000.snappy.parquet  \n",
            "  inflating: ./sales_parquet/part-00007-e651a798-938c-4056-96ac-b29d9c3b497e-c000.snappy.parquet  \n",
            "  inflating: ./sales_parquet/part-00008-e651a798-938c-4056-96ac-b29d9c3b497e-c000.snappy.parquet  \n",
            "  inflating: ./sales_parquet/part-00009-e651a798-938c-4056-96ac-b29d9c3b497e-c000.snappy.parquet  \n",
            "  inflating: ./sales_parquet/part-00010-e651a798-938c-4056-96ac-b29d9c3b497e-c000.snappy.parquet  \n",
            "  inflating: ./sales_parquet/part-00011-e651a798-938c-4056-96ac-b29d9c3b497e-c000.snappy.parquet  \n",
            "  inflating: ./sales_parquet/part-00012-e651a798-938c-4056-96ac-b29d9c3b497e-c000.snappy.parquet  \n",
            "  inflating: ./sales_parquet/part-00013-e651a798-938c-4056-96ac-b29d9c3b497e-c000.snappy.parquet  \n",
            "  inflating: ./sales_parquet/part-00014-e651a798-938c-4056-96ac-b29d9c3b497e-c000.snappy.parquet  \n",
            "  inflating: ./sales_parquet/part-00015-e651a798-938c-4056-96ac-b29d9c3b497e-c000.snappy.parquet  \n",
            "  inflating: ./sales_parquet/part-00016-e651a798-938c-4056-96ac-b29d9c3b497e-c000.snappy.parquet  \n",
            "  inflating: ./sales_parquet/part-00017-e651a798-938c-4056-96ac-b29d9c3b497e-c000.snappy.parquet  \n",
            "  inflating: ./sales_parquet/part-00018-e651a798-938c-4056-96ac-b29d9c3b497e-c000.snappy.parquet  \n",
            "  inflating: ./sales_parquet/part-00019-e651a798-938c-4056-96ac-b29d9c3b497e-c000.snappy.parquet  \n",
            "  inflating: ./sales_parquet/part-00020-e651a798-938c-4056-96ac-b29d9c3b497e-c000.snappy.parquet  \n",
            "  inflating: ./sales_parquet/part-00021-e651a798-938c-4056-96ac-b29d9c3b497e-c000.snappy.parquet  \n",
            "  inflating: ./sales_parquet/part-00022-e651a798-938c-4056-96ac-b29d9c3b497e-c000.snappy.parquet  \n",
            "  inflating: ./sales_parquet/part-00023-e651a798-938c-4056-96ac-b29d9c3b497e-c000.snappy.parquet  \n",
            "  inflating: ./sales_parquet/part-00024-e651a798-938c-4056-96ac-b29d9c3b497e-c000.snappy.parquet  \n",
            "  inflating: ./sales_parquet/part-00025-e651a798-938c-4056-96ac-b29d9c3b497e-c000.snappy.parquet  \n",
            "  inflating: ./sales_parquet/part-00026-e651a798-938c-4056-96ac-b29d9c3b497e-c000.snappy.parquet  \n",
            "  inflating: ./sales_parquet/part-00027-e651a798-938c-4056-96ac-b29d9c3b497e-c000.snappy.parquet  \n",
            "  inflating: ./sales_parquet/part-00028-e651a798-938c-4056-96ac-b29d9c3b497e-c000.snappy.parquet  \n",
            "  inflating: ./sales_parquet/part-00029-e651a798-938c-4056-96ac-b29d9c3b497e-c000.snappy.parquet  \n",
            "  inflating: ./sales_parquet/part-00030-e651a798-938c-4056-96ac-b29d9c3b497e-c000.snappy.parquet  \n",
            "  inflating: ./sales_parquet/part-00031-e651a798-938c-4056-96ac-b29d9c3b497e-c000.snappy.parquet  \n",
            "  inflating: ./sales_parquet/part-00032-e651a798-938c-4056-96ac-b29d9c3b497e-c000.snappy.parquet  \n",
            "  inflating: ./sales_parquet/part-00033-e651a798-938c-4056-96ac-b29d9c3b497e-c000.snappy.parquet  \n",
            "  inflating: ./sales_parquet/part-00034-e651a798-938c-4056-96ac-b29d9c3b497e-c000.snappy.parquet  \n",
            "  inflating: ./sales_parquet/part-00035-e651a798-938c-4056-96ac-b29d9c3b497e-c000.snappy.parquet  \n",
            "  inflating: ./sales_parquet/part-00036-e651a798-938c-4056-96ac-b29d9c3b497e-c000.snappy.parquet  \n",
            "  inflating: ./sales_parquet/part-00037-e651a798-938c-4056-96ac-b29d9c3b497e-c000.snappy.parquet  \n",
            "  inflating: ./sales_parquet/part-00038-e651a798-938c-4056-96ac-b29d9c3b497e-c000.snappy.parquet  \n",
            "  inflating: ./sales_parquet/part-00039-e651a798-938c-4056-96ac-b29d9c3b497e-c000.snappy.parquet  \n",
            "  inflating: ./sales_parquet/part-00040-e651a798-938c-4056-96ac-b29d9c3b497e-c000.snappy.parquet  \n",
            "  inflating: ./sales_parquet/part-00041-e651a798-938c-4056-96ac-b29d9c3b497e-c000.snappy.parquet  \n",
            "  inflating: ./sales_parquet/part-00042-e651a798-938c-4056-96ac-b29d9c3b497e-c000.snappy.parquet  \n",
            "  inflating: ./sales_parquet/part-00043-e651a798-938c-4056-96ac-b29d9c3b497e-c000.snappy.parquet  \n",
            "  inflating: ./sales_parquet/part-00044-e651a798-938c-4056-96ac-b29d9c3b497e-c000.snappy.parquet  \n",
            "  inflating: ./sales_parquet/part-00045-e651a798-938c-4056-96ac-b29d9c3b497e-c000.snappy.parquet  \n",
            "  inflating: ./sales_parquet/part-00046-e651a798-938c-4056-96ac-b29d9c3b497e-c000.snappy.parquet  \n",
            "  inflating: ./sales_parquet/part-00047-e651a798-938c-4056-96ac-b29d9c3b497e-c000.snappy.parquet  \n",
            "  inflating: ./sales_parquet/part-00048-e651a798-938c-4056-96ac-b29d9c3b497e-c000.snappy.parquet  \n",
            "  inflating: ./sales_parquet/part-00049-e651a798-938c-4056-96ac-b29d9c3b497e-c000.snappy.parquet  \n",
            "  inflating: ./sales_parquet/part-00050-e651a798-938c-4056-96ac-b29d9c3b497e-c000.snappy.parquet  \n",
            "  inflating: ./sales_parquet/part-00051-e651a798-938c-4056-96ac-b29d9c3b497e-c000.snappy.parquet  \n",
            "  inflating: ./sales_parquet/part-00052-e651a798-938c-4056-96ac-b29d9c3b497e-c000.snappy.parquet  \n",
            "  inflating: ./sales_parquet/part-00053-e651a798-938c-4056-96ac-b29d9c3b497e-c000.snappy.parquet  \n",
            "  inflating: ./sales_parquet/part-00054-e651a798-938c-4056-96ac-b29d9c3b497e-c000.snappy.parquet  \n",
            "  inflating: ./sales_parquet/part-00055-e651a798-938c-4056-96ac-b29d9c3b497e-c000.snappy.parquet  \n",
            "  inflating: ./sales_parquet/part-00056-e651a798-938c-4056-96ac-b29d9c3b497e-c000.snappy.parquet  \n",
            "  inflating: ./sales_parquet/part-00057-e651a798-938c-4056-96ac-b29d9c3b497e-c000.snappy.parquet  \n",
            "  inflating: ./sales_parquet/part-00058-e651a798-938c-4056-96ac-b29d9c3b497e-c000.snappy.parquet  \n",
            "  inflating: ./sales_parquet/part-00059-e651a798-938c-4056-96ac-b29d9c3b497e-c000.snappy.parquet  \n",
            "  inflating: ./sales_parquet/part-00060-e651a798-938c-4056-96ac-b29d9c3b497e-c000.snappy.parquet  \n",
            "  inflating: ./sales_parquet/part-00061-e651a798-938c-4056-96ac-b29d9c3b497e-c000.snappy.parquet  \n",
            "  inflating: ./sales_parquet/part-00062-e651a798-938c-4056-96ac-b29d9c3b497e-c000.snappy.parquet  \n",
            "  inflating: ./sales_parquet/part-00063-e651a798-938c-4056-96ac-b29d9c3b497e-c000.snappy.parquet  \n",
            "  inflating: ./sales_parquet/part-00064-e651a798-938c-4056-96ac-b29d9c3b497e-c000.snappy.parquet  \n",
            "  inflating: ./sales_parquet/part-00065-e651a798-938c-4056-96ac-b29d9c3b497e-c000.snappy.parquet  \n",
            "  inflating: ./sales_parquet/part-00066-e651a798-938c-4056-96ac-b29d9c3b497e-c000.snappy.parquet  \n",
            "  inflating: ./sales_parquet/part-00067-e651a798-938c-4056-96ac-b29d9c3b497e-c000.snappy.parquet  \n",
            "  inflating: ./sales_parquet/part-00068-e651a798-938c-4056-96ac-b29d9c3b497e-c000.snappy.parquet  \n",
            "  inflating: ./sales_parquet/part-00069-e651a798-938c-4056-96ac-b29d9c3b497e-c000.snappy.parquet  \n",
            "  inflating: ./sales_parquet/part-00070-e651a798-938c-4056-96ac-b29d9c3b497e-c000.snappy.parquet  \n",
            "  inflating: ./sales_parquet/part-00071-e651a798-938c-4056-96ac-b29d9c3b497e-c000.snappy.parquet  \n",
            "  inflating: ./sales_parquet/part-00072-e651a798-938c-4056-96ac-b29d9c3b497e-c000.snappy.parquet  \n",
            "  inflating: ./sales_parquet/part-00073-e651a798-938c-4056-96ac-b29d9c3b497e-c000.snappy.parquet  \n",
            "  inflating: ./sales_parquet/part-00074-e651a798-938c-4056-96ac-b29d9c3b497e-c000.snappy.parquet  \n",
            "  inflating: ./sales_parquet/part-00075-e651a798-938c-4056-96ac-b29d9c3b497e-c000.snappy.parquet  \n",
            "  inflating: ./sales_parquet/part-00076-e651a798-938c-4056-96ac-b29d9c3b497e-c000.snappy.parquet  \n",
            "  inflating: ./sales_parquet/part-00077-e651a798-938c-4056-96ac-b29d9c3b497e-c000.snappy.parquet  \n",
            "  inflating: ./sales_parquet/part-00078-e651a798-938c-4056-96ac-b29d9c3b497e-c000.snappy.parquet  \n",
            "  inflating: ./sales_parquet/part-00079-e651a798-938c-4056-96ac-b29d9c3b497e-c000.snappy.parquet  \n",
            "  inflating: ./sales_parquet/part-00080-e651a798-938c-4056-96ac-b29d9c3b497e-c000.snappy.parquet  \n",
            "  inflating: ./sales_parquet/part-00081-e651a798-938c-4056-96ac-b29d9c3b497e-c000.snappy.parquet  \n",
            "  inflating: ./sales_parquet/part-00082-e651a798-938c-4056-96ac-b29d9c3b497e-c000.snappy.parquet  \n",
            "  inflating: ./sales_parquet/part-00083-e651a798-938c-4056-96ac-b29d9c3b497e-c000.snappy.parquet  \n",
            "  inflating: ./sales_parquet/part-00084-e651a798-938c-4056-96ac-b29d9c3b497e-c000.snappy.parquet  \n",
            "  inflating: ./sales_parquet/part-00085-e651a798-938c-4056-96ac-b29d9c3b497e-c000.snappy.parquet  \n",
            "  inflating: ./sales_parquet/part-00086-e651a798-938c-4056-96ac-b29d9c3b497e-c000.snappy.parquet  \n",
            "  inflating: ./sales_parquet/part-00087-e651a798-938c-4056-96ac-b29d9c3b497e-c000.snappy.parquet  \n",
            "  inflating: ./sales_parquet/part-00088-e651a798-938c-4056-96ac-b29d9c3b497e-c000.snappy.parquet  \n",
            "  inflating: ./sales_parquet/part-00089-e651a798-938c-4056-96ac-b29d9c3b497e-c000.snappy.parquet  \n",
            "  inflating: ./sales_parquet/part-00090-e651a798-938c-4056-96ac-b29d9c3b497e-c000.snappy.parquet  \n",
            "  inflating: ./sales_parquet/part-00091-e651a798-938c-4056-96ac-b29d9c3b497e-c000.snappy.parquet  \n",
            "  inflating: ./sales_parquet/part-00092-e651a798-938c-4056-96ac-b29d9c3b497e-c000.snappy.parquet  \n",
            "  inflating: ./sales_parquet/part-00093-e651a798-938c-4056-96ac-b29d9c3b497e-c000.snappy.parquet  \n",
            "  inflating: ./sales_parquet/part-00094-e651a798-938c-4056-96ac-b29d9c3b497e-c000.snappy.parquet  \n",
            "  inflating: ./sales_parquet/part-00095-e651a798-938c-4056-96ac-b29d9c3b497e-c000.snappy.parquet  \n",
            "  inflating: ./sales_parquet/part-00096-e651a798-938c-4056-96ac-b29d9c3b497e-c000.snappy.parquet  \n",
            "  inflating: ./sales_parquet/part-00097-e651a798-938c-4056-96ac-b29d9c3b497e-c000.snappy.parquet  \n",
            "  inflating: ./sales_parquet/part-00098-e651a798-938c-4056-96ac-b29d9c3b497e-c000.snappy.parquet  \n",
            "  inflating: ./sales_parquet/part-00099-e651a798-938c-4056-96ac-b29d9c3b497e-c000.snappy.parquet  \n",
            "  inflating: ./sales_parquet/part-00100-e651a798-938c-4056-96ac-b29d9c3b497e-c000.snappy.parquet  \n",
            "  inflating: ./sales_parquet/part-00101-e651a798-938c-4056-96ac-b29d9c3b497e-c000.snappy.parquet  \n",
            "  inflating: ./sales_parquet/part-00102-e651a798-938c-4056-96ac-b29d9c3b497e-c000.snappy.parquet  \n",
            "  inflating: ./sales_parquet/part-00103-e651a798-938c-4056-96ac-b29d9c3b497e-c000.snappy.parquet  \n",
            "  inflating: ./sales_parquet/part-00104-e651a798-938c-4056-96ac-b29d9c3b497e-c000.snappy.parquet  \n",
            "  inflating: ./sales_parquet/part-00105-e651a798-938c-4056-96ac-b29d9c3b497e-c000.snappy.parquet  \n",
            "  inflating: ./sales_parquet/part-00106-e651a798-938c-4056-96ac-b29d9c3b497e-c000.snappy.parquet  \n",
            "  inflating: ./sales_parquet/part-00107-e651a798-938c-4056-96ac-b29d9c3b497e-c000.snappy.parquet  \n",
            "  inflating: ./sales_parquet/part-00108-e651a798-938c-4056-96ac-b29d9c3b497e-c000.snappy.parquet  \n",
            "  inflating: ./sales_parquet/part-00109-e651a798-938c-4056-96ac-b29d9c3b497e-c000.snappy.parquet  \n",
            "  inflating: ./sales_parquet/part-00110-e651a798-938c-4056-96ac-b29d9c3b497e-c000.snappy.parquet  \n",
            "  inflating: ./sales_parquet/part-00111-e651a798-938c-4056-96ac-b29d9c3b497e-c000.snappy.parquet  \n",
            "  inflating: ./sales_parquet/part-00112-e651a798-938c-4056-96ac-b29d9c3b497e-c000.snappy.parquet  \n",
            "  inflating: ./sales_parquet/part-00113-e651a798-938c-4056-96ac-b29d9c3b497e-c000.snappy.parquet  \n",
            "  inflating: ./sales_parquet/part-00114-e651a798-938c-4056-96ac-b29d9c3b497e-c000.snappy.parquet  \n",
            "  inflating: ./sales_parquet/part-00115-e651a798-938c-4056-96ac-b29d9c3b497e-c000.snappy.parquet  \n",
            "  inflating: ./sales_parquet/part-00116-e651a798-938c-4056-96ac-b29d9c3b497e-c000.snappy.parquet  \n",
            "  inflating: ./sales_parquet/part-00117-e651a798-938c-4056-96ac-b29d9c3b497e-c000.snappy.parquet  \n",
            "  inflating: ./sales_parquet/part-00118-e651a798-938c-4056-96ac-b29d9c3b497e-c000.snappy.parquet  \n",
            "  inflating: ./sales_parquet/part-00119-e651a798-938c-4056-96ac-b29d9c3b497e-c000.snappy.parquet  \n",
            "  inflating: ./sales_parquet/part-00120-e651a798-938c-4056-96ac-b29d9c3b497e-c000.snappy.parquet  \n",
            "  inflating: ./sales_parquet/part-00121-e651a798-938c-4056-96ac-b29d9c3b497e-c000.snappy.parquet  \n",
            "  inflating: ./sales_parquet/part-00122-e651a798-938c-4056-96ac-b29d9c3b497e-c000.snappy.parquet  \n",
            "  inflating: ./sales_parquet/part-00123-e651a798-938c-4056-96ac-b29d9c3b497e-c000.snappy.parquet  \n",
            "  inflating: ./sales_parquet/part-00124-e651a798-938c-4056-96ac-b29d9c3b497e-c000.snappy.parquet  \n",
            "  inflating: ./sales_parquet/part-00125-e651a798-938c-4056-96ac-b29d9c3b497e-c000.snappy.parquet  \n",
            "  inflating: ./sales_parquet/part-00126-e651a798-938c-4056-96ac-b29d9c3b497e-c000.snappy.parquet  \n",
            "  inflating: ./sales_parquet/part-00127-e651a798-938c-4056-96ac-b29d9c3b497e-c000.snappy.parquet  \n",
            "  inflating: ./sales_parquet/part-00128-e651a798-938c-4056-96ac-b29d9c3b497e-c000.snappy.parquet  \n",
            "  inflating: ./sales_parquet/part-00129-e651a798-938c-4056-96ac-b29d9c3b497e-c000.snappy.parquet  \n",
            "  inflating: ./sales_parquet/part-00130-e651a798-938c-4056-96ac-b29d9c3b497e-c000.snappy.parquet  \n",
            "  inflating: ./sales_parquet/part-00131-e651a798-938c-4056-96ac-b29d9c3b497e-c000.snappy.parquet  \n",
            "  inflating: ./sales_parquet/part-00132-e651a798-938c-4056-96ac-b29d9c3b497e-c000.snappy.parquet  \n",
            "  inflating: ./sales_parquet/part-00133-e651a798-938c-4056-96ac-b29d9c3b497e-c000.snappy.parquet  \n",
            "  inflating: ./sales_parquet/part-00134-e651a798-938c-4056-96ac-b29d9c3b497e-c000.snappy.parquet  \n",
            "  inflating: ./sales_parquet/part-00135-e651a798-938c-4056-96ac-b29d9c3b497e-c000.snappy.parquet  \n",
            "  inflating: ./sales_parquet/part-00136-e651a798-938c-4056-96ac-b29d9c3b497e-c000.snappy.parquet  \n",
            "  inflating: ./sales_parquet/part-00137-e651a798-938c-4056-96ac-b29d9c3b497e-c000.snappy.parquet  \n",
            "  inflating: ./sales_parquet/part-00138-e651a798-938c-4056-96ac-b29d9c3b497e-c000.snappy.parquet  \n",
            "  inflating: ./sales_parquet/part-00139-e651a798-938c-4056-96ac-b29d9c3b497e-c000.snappy.parquet  \n",
            "  inflating: ./sales_parquet/part-00140-e651a798-938c-4056-96ac-b29d9c3b497e-c000.snappy.parquet  \n",
            "  inflating: ./sales_parquet/part-00141-e651a798-938c-4056-96ac-b29d9c3b497e-c000.snappy.parquet  \n",
            "  inflating: ./sales_parquet/part-00142-e651a798-938c-4056-96ac-b29d9c3b497e-c000.snappy.parquet  \n",
            "  inflating: ./sales_parquet/part-00143-e651a798-938c-4056-96ac-b29d9c3b497e-c000.snappy.parquet  \n",
            "  inflating: ./sales_parquet/part-00144-e651a798-938c-4056-96ac-b29d9c3b497e-c000.snappy.parquet  \n",
            "  inflating: ./sales_parquet/part-00145-e651a798-938c-4056-96ac-b29d9c3b497e-c000.snappy.parquet  \n",
            "  inflating: ./sales_parquet/part-00146-e651a798-938c-4056-96ac-b29d9c3b497e-c000.snappy.parquet  \n",
            "  inflating: ./sales_parquet/part-00147-e651a798-938c-4056-96ac-b29d9c3b497e-c000.snappy.parquet  \n",
            "  inflating: ./sales_parquet/part-00148-e651a798-938c-4056-96ac-b29d9c3b497e-c000.snappy.parquet  \n",
            "  inflating: ./sales_parquet/part-00149-e651a798-938c-4056-96ac-b29d9c3b497e-c000.snappy.parquet  \n",
            "  inflating: ./sales_parquet/part-00150-e651a798-938c-4056-96ac-b29d9c3b497e-c000.snappy.parquet  \n",
            "  inflating: ./sales_parquet/part-00151-e651a798-938c-4056-96ac-b29d9c3b497e-c000.snappy.parquet  \n",
            "  inflating: ./sales_parquet/part-00152-e651a798-938c-4056-96ac-b29d9c3b497e-c000.snappy.parquet  \n",
            "  inflating: ./sales_parquet/part-00153-e651a798-938c-4056-96ac-b29d9c3b497e-c000.snappy.parquet  \n",
            "  inflating: ./sales_parquet/part-00154-e651a798-938c-4056-96ac-b29d9c3b497e-c000.snappy.parquet  \n",
            "  inflating: ./sales_parquet/part-00155-e651a798-938c-4056-96ac-b29d9c3b497e-c000.snappy.parquet  \n",
            "  inflating: ./sales_parquet/part-00156-e651a798-938c-4056-96ac-b29d9c3b497e-c000.snappy.parquet  \n",
            "  inflating: ./sales_parquet/part-00157-e651a798-938c-4056-96ac-b29d9c3b497e-c000.snappy.parquet  \n",
            "  inflating: ./sales_parquet/part-00158-e651a798-938c-4056-96ac-b29d9c3b497e-c000.snappy.parquet  \n",
            "  inflating: ./sales_parquet/part-00159-e651a798-938c-4056-96ac-b29d9c3b497e-c000.snappy.parquet  \n",
            "  inflating: ./sales_parquet/part-00160-e651a798-938c-4056-96ac-b29d9c3b497e-c000.snappy.parquet  \n",
            "  inflating: ./sales_parquet/part-00161-e651a798-938c-4056-96ac-b29d9c3b497e-c000.snappy.parquet  \n",
            "  inflating: ./sales_parquet/part-00162-e651a798-938c-4056-96ac-b29d9c3b497e-c000.snappy.parquet  \n",
            "  inflating: ./sales_parquet/part-00163-e651a798-938c-4056-96ac-b29d9c3b497e-c000.snappy.parquet  \n",
            "  inflating: ./sales_parquet/part-00164-e651a798-938c-4056-96ac-b29d9c3b497e-c000.snappy.parquet  \n",
            "  inflating: ./sales_parquet/part-00165-e651a798-938c-4056-96ac-b29d9c3b497e-c000.snappy.parquet  \n",
            "  inflating: ./sales_parquet/part-00166-e651a798-938c-4056-96ac-b29d9c3b497e-c000.snappy.parquet  \n",
            "  inflating: ./sales_parquet/part-00167-e651a798-938c-4056-96ac-b29d9c3b497e-c000.snappy.parquet  \n",
            "  inflating: ./sales_parquet/part-00168-e651a798-938c-4056-96ac-b29d9c3b497e-c000.snappy.parquet  \n",
            "  inflating: ./sales_parquet/part-00169-e651a798-938c-4056-96ac-b29d9c3b497e-c000.snappy.parquet  \n",
            "  inflating: ./sales_parquet/part-00170-e651a798-938c-4056-96ac-b29d9c3b497e-c000.snappy.parquet  \n",
            "  inflating: ./sales_parquet/part-00171-e651a798-938c-4056-96ac-b29d9c3b497e-c000.snappy.parquet  \n",
            "  inflating: ./sales_parquet/part-00172-e651a798-938c-4056-96ac-b29d9c3b497e-c000.snappy.parquet  \n",
            "  inflating: ./sales_parquet/part-00173-e651a798-938c-4056-96ac-b29d9c3b497e-c000.snappy.parquet  \n",
            "  inflating: ./sales_parquet/part-00174-e651a798-938c-4056-96ac-b29d9c3b497e-c000.snappy.parquet  \n",
            "  inflating: ./sales_parquet/part-00175-e651a798-938c-4056-96ac-b29d9c3b497e-c000.snappy.parquet  \n",
            "  inflating: ./sales_parquet/part-00176-e651a798-938c-4056-96ac-b29d9c3b497e-c000.snappy.parquet  \n",
            "  inflating: ./sales_parquet/part-00177-e651a798-938c-4056-96ac-b29d9c3b497e-c000.snappy.parquet  \n",
            "  inflating: ./sales_parquet/part-00178-e651a798-938c-4056-96ac-b29d9c3b497e-c000.snappy.parquet  \n",
            "  inflating: ./sales_parquet/part-00179-e651a798-938c-4056-96ac-b29d9c3b497e-c000.snappy.parquet  \n",
            "  inflating: ./sales_parquet/part-00180-e651a798-938c-4056-96ac-b29d9c3b497e-c000.snappy.parquet  \n",
            "  inflating: ./sales_parquet/part-00181-e651a798-938c-4056-96ac-b29d9c3b497e-c000.snappy.parquet  \n",
            "  inflating: ./sales_parquet/part-00182-e651a798-938c-4056-96ac-b29d9c3b497e-c000.snappy.parquet  \n",
            "  inflating: ./sales_parquet/part-00183-e651a798-938c-4056-96ac-b29d9c3b497e-c000.snappy.parquet  \n",
            "  inflating: ./sales_parquet/part-00184-e651a798-938c-4056-96ac-b29d9c3b497e-c000.snappy.parquet  \n",
            "  inflating: ./sales_parquet/part-00185-e651a798-938c-4056-96ac-b29d9c3b497e-c000.snappy.parquet  \n",
            "  inflating: ./sales_parquet/part-00186-e651a798-938c-4056-96ac-b29d9c3b497e-c000.snappy.parquet  \n",
            "  inflating: ./sales_parquet/part-00187-e651a798-938c-4056-96ac-b29d9c3b497e-c000.snappy.parquet  \n",
            "  inflating: ./sales_parquet/part-00188-e651a798-938c-4056-96ac-b29d9c3b497e-c000.snappy.parquet  \n",
            "  inflating: ./sales_parquet/part-00189-e651a798-938c-4056-96ac-b29d9c3b497e-c000.snappy.parquet  \n",
            "  inflating: ./sales_parquet/part-00190-e651a798-938c-4056-96ac-b29d9c3b497e-c000.snappy.parquet  \n",
            "  inflating: ./sales_parquet/part-00191-e651a798-938c-4056-96ac-b29d9c3b497e-c000.snappy.parquet  \n",
            "  inflating: ./sales_parquet/part-00192-e651a798-938c-4056-96ac-b29d9c3b497e-c000.snappy.parquet  \n",
            "  inflating: ./sales_parquet/part-00193-e651a798-938c-4056-96ac-b29d9c3b497e-c000.snappy.parquet  \n",
            "  inflating: ./sales_parquet/part-00194-e651a798-938c-4056-96ac-b29d9c3b497e-c000.snappy.parquet  \n",
            "  inflating: ./sales_parquet/part-00195-e651a798-938c-4056-96ac-b29d9c3b497e-c000.snappy.parquet  \n",
            "  inflating: ./sales_parquet/part-00196-e651a798-938c-4056-96ac-b29d9c3b497e-c000.snappy.parquet  \n",
            "  inflating: ./sales_parquet/part-00197-e651a798-938c-4056-96ac-b29d9c3b497e-c000.snappy.parquet  \n",
            "  inflating: ./sales_parquet/part-00198-e651a798-938c-4056-96ac-b29d9c3b497e-c000.snappy.parquet  \n",
            "  inflating: ./sales_parquet/part-00199-e651a798-938c-4056-96ac-b29d9c3b497e-c000.snappy.parquet  \n",
            " extracting: ./sales_parquet/_SUCCESS  \n",
            "   creating: ./sellers_parquet/\n",
            " extracting: ./sellers_parquet/.part-00000-54f48a9e-d67c-4c29-aed7-1b5f6f117c12-c000.snappy.parquet.crc  \n",
            " extracting: ./sellers_parquet/._SUCCESS.crc  \n",
            "  inflating: ./sellers_parquet/part-00000-54f48a9e-d67c-4c29-aed7-1b5f6f117c12-c000.snappy.parquet  \n",
            " extracting: ./sellers_parquet/_SUCCESS  \n"
          ]
        }
      ]
    },
    {
      "cell_type": "code",
      "source": [
        "import pyspark\n",
        "from pyspark.sql import SparkSession\n",
        "spark = SparkSession.builder.master(\"local[1]\").appName('SparkByExamples.com').getOrCreate()\n",
        "Sales_DF=spark.read.parquet('/content/sales_parquet')\n",
        "print(\"tedad sales is \")\n",
        "Sales_DF.count()"
      ],
      "metadata": {
        "colab": {
          "base_uri": "https://localhost:8080/"
        },
        "id": "VKeGhyO3Zzw5",
        "outputId": "c2d2a79e-6640-4373-8242-5bb5c374b69e"
      },
      "execution_count": 4,
      "outputs": [
        {
          "output_type": "stream",
          "name": "stdout",
          "text": [
            "tedad sales is \n"
          ]
        },
        {
          "output_type": "execute_result",
          "data": {
            "text/plain": [
              "20000040"
            ]
          },
          "metadata": {},
          "execution_count": 4
        }
      ]
    },
    {
      "cell_type": "code",
      "source": [
        "Sellers_DF = spark.read.parquet('/content/sellers_parquet')\n",
        "print(\"tedad of sellers is \")\n",
        "Sellers_DF.count()"
      ],
      "metadata": {
        "colab": {
          "base_uri": "https://localhost:8080/"
        },
        "id": "sBKULzXGaKqz",
        "outputId": "020827c0-e842-4f79-d802-908314abb938"
      },
      "execution_count": 5,
      "outputs": [
        {
          "output_type": "stream",
          "name": "stdout",
          "text": [
            "tedad of sellers is \n"
          ]
        },
        {
          "output_type": "execute_result",
          "data": {
            "text/plain": [
              "10"
            ]
          },
          "metadata": {},
          "execution_count": 5
        }
      ]
    },
    {
      "cell_type": "code",
      "source": [
        "Product_DF = spark.read.parquet('/content/products_parquet')\n",
        "print(\"tedad of product is \")\n",
        "Product_DF.count()"
      ],
      "metadata": {
        "colab": {
          "base_uri": "https://localhost:8080/"
        },
        "id": "a8x5k_dLaOtD",
        "outputId": "2a972b78-195e-4581-9c95-35169a9ab64e"
      },
      "execution_count": 6,
      "outputs": [
        {
          "output_type": "stream",
          "name": "stdout",
          "text": [
            "tedad of product is \n"
          ]
        },
        {
          "output_type": "execute_result",
          "data": {
            "text/plain": [
              "75000000"
            ]
          },
          "metadata": {},
          "execution_count": 6
        }
      ]
    },
    {
      "cell_type": "code",
      "source": [
        "spark.sql(\"CREATE TEMPORARY VIEW Saless USING parquet OPTIONS (path \\\"/content/sales_parquet\\\")\")\n",
        "Sales_DF.createOrReplaceTempView(\"Sales12\")\n",
        "spark.sql(\"SELECT COUNT(DISTINCT product_id) FROM Saless\").show()"
      ],
      "metadata": {
        "colab": {
          "base_uri": "https://localhost:8080/"
        },
        "id": "YKQ8cPFLaUPK",
        "outputId": "a653e731-4c1c-4ea0-9387-908250fd0cd7"
      },
      "execution_count": 7,
      "outputs": [
        {
          "output_type": "stream",
          "name": "stdout",
          "text": [
            "+--------------------------+\n",
            "|count(DISTINCT product_id)|\n",
            "+--------------------------+\n",
            "|                    993429|\n",
            "+--------------------------+\n",
            "\n"
          ]
        }
      ]
    },
    {
      "cell_type": "code",
      "source": [
        "# Sales_DF.show(3)\n",
        "parkSQL= spark.sql(\"SELECT product_id, COUNT(product_id) FROM Saless GROUP BY product_id HAVING COUNT(product_id) >= 2\")\n",
        "parkSQL.show()"
      ],
      "metadata": {
        "colab": {
          "base_uri": "https://localhost:8080/"
        },
        "id": "pTjLCvkuafEU",
        "outputId": "434baab4-d7f3-41bf-bf9d-347f9a6628e8"
      },
      "execution_count": 8,
      "outputs": [
        {
          "output_type": "stream",
          "name": "stdout",
          "text": [
            "+----------+-----------------+\n",
            "|product_id|count(product_id)|\n",
            "+----------+-----------------+\n",
            "|         0|         19000000|\n",
            "|  32908362|                2|\n",
            "|   1427289|                2|\n",
            "|  26750979|                2|\n",
            "|  45288884|                2|\n",
            "|  68480776|                2|\n",
            "|  71102646|                2|\n",
            "|  71509129|                2|\n",
            "|  24649333|                2|\n",
            "|  49626228|                2|\n",
            "|   1436058|                2|\n",
            "|  61045775|                2|\n",
            "|  13955602|                2|\n",
            "|  61570737|                2|\n",
            "|  43502792|                2|\n",
            "|  68703653|                2|\n",
            "|  35832907|                2|\n",
            "|  62630575|                2|\n",
            "|  71913021|                2|\n",
            "|  59337762|                2|\n",
            "+----------+-----------------+\n",
            "only showing top 20 rows\n",
            "\n"
          ]
        }
      ]
    },
    {
      "cell_type": "code",
      "source": [
        "parkSQL= spark.sql(\"SELECT COUNT(DISTINCT product_id),date FROM Saless GROUP BY  date\")\n",
        "parkSQL.show()"
      ],
      "metadata": {
        "colab": {
          "base_uri": "https://localhost:8080/"
        },
        "id": "IiVuiDbhaiPM",
        "outputId": "2ed5dfb8-1c72-46ba-bafd-b5aef8513253"
      },
      "execution_count": 9,
      "outputs": [
        {
          "output_type": "stream",
          "name": "stdout",
          "text": [
            "+--------------------------+----------+\n",
            "|count(DISTINCT product_id)|      date|\n",
            "+--------------------------+----------+\n",
            "|                    100017|2020-07-03|\n",
            "|                     99756|2020-07-07|\n",
            "|                    100337|2020-07-01|\n",
            "|                     99662|2020-07-08|\n",
            "|                     99791|2020-07-04|\n",
            "|                     98973|2020-07-10|\n",
            "|                    100501|2020-07-09|\n",
            "|                    100765|2020-07-06|\n",
            "|                     99807|2020-07-02|\n",
            "|                     99796|2020-07-05|\n",
            "+--------------------------+----------+\n",
            "\n"
          ]
        }
      ]
    },
    {
      "cell_type": "code",
      "source": [
        "#spark.sql(\"CREATE TEMPORARY VIEW PRODUCT USING parquet OPTIONS (path \\\"/content/products_parquet\\\")\")\n",
        "Result= spark.sql(\"SELECT s.product_id, s.num_pieces_sold*p.price AS total_price FROM Saless s JOIN PRODUCT p ON p.product_id=s.product_id\")\n",
        "Result.show(5)\n",
        "from pyspark.sql.functions import col, sum,avg\n",
        "Result.select(avg(\"total_price\")).show()"
      ],
      "metadata": {
        "colab": {
          "base_uri": "https://localhost:8080/"
        },
        "id": "-VS7JxK1a1-J",
        "outputId": "0f708efe-5dcc-4647-cf95-936e9f74d478"
      },
      "execution_count": 12,
      "outputs": [
        {
          "output_type": "stream",
          "name": "stdout",
          "text": [
            "+----------+-----------+\n",
            "|product_id|total_price|\n",
            "+----------+-----------+\n",
            "|  10000047|      551.0|\n",
            "|  10000715|     3825.0|\n",
            "|  10002110|    12125.0|\n",
            "|  10004929|     1394.0|\n",
            "|  10005243|     4312.0|\n",
            "+----------+-----------+\n",
            "only showing top 5 rows\n",
            "\n",
            "+------------------+\n",
            "|  avg(total_price)|\n",
            "+------------------+\n",
            "|1246.1338560822878|\n",
            "+------------------+\n",
            "\n"
          ]
        }
      ]
    },
    {
      "cell_type": "code",
      "source": [
        "Result= spark.sql(\"SELECT s.seller_id,s.product_id, s.num_pieces_sold*p.price AS total_price FROM Saless s JOIN PRODUCT p ON p.product_id=s.product_id\" )\n",
        "totalSum=Result.groupBy(\"seller_id\").sum().show()"
      ],
      "metadata": {
        "colab": {
          "base_uri": "https://localhost:8080/"
        },
        "id": "dDizXxuQa-rU",
        "outputId": "f8643604-5d31-4247-99ea-453bb159f0c3"
      },
      "execution_count": 13,
      "outputs": [
        {
          "output_type": "stream",
          "name": "stdout",
          "text": [
            "+---------+----------------+\n",
            "|seller_id|sum(total_price)|\n",
            "+---------+----------------+\n",
            "|        7|    4.23768474E8|\n",
            "|        3|    4.25771873E8|\n",
            "|        8|    4.21542107E8|\n",
            "|        5|     4.2173518E8|\n",
            "|        6|     4.2425561E8|\n",
            "|        9|    4.26557098E8|\n",
            "|        1|    4.23105788E8|\n",
            "|        4|    4.23291612E8|\n",
            "|        2|    4.24891581E8|\n",
            "|        0| 2.1107807644E10|\n",
            "+---------+----------------+\n",
            "\n"
          ]
        }
      ]
    },
    {
      "cell_type": "code",
      "source": [
        "parkSQL= spark.sql(\"SELECT DISTINCT seller_id FROM Saless WHERE product_id = 0\" )\n",
        "parkSQL.show()"
      ],
      "metadata": {
        "colab": {
          "base_uri": "https://localhost:8080/"
        },
        "id": "pVi3Tbfjc46Q",
        "outputId": "06578446-fd29-4240-efa7-8d27d619b9a1"
      },
      "execution_count": 14,
      "outputs": [
        {
          "output_type": "stream",
          "name": "stdout",
          "text": [
            "+---------+\n",
            "|seller_id|\n",
            "+---------+\n",
            "|        0|\n",
            "+---------+\n",
            "\n"
          ]
        }
      ]
    },
    {
      "cell_type": "code",
      "source": [
        "from pyspark.sql.functions import md5, when , sha2\n",
        "Sales_DF = Sales_DF.withColumn('hashed_bill' , when(Sales_DF .order_id%2 ==0, md5('bill_raw_text')).otherwise(sha2(Sales_DF.bill_raw_text, 256))).show()"
      ],
      "metadata": {
        "colab": {
          "base_uri": "https://localhost:8080/"
        },
        "id": "fRLzZDWrdhLB",
        "outputId": "49a2acdd-92f9-4f90-a4fa-9124e84dee40"
      },
      "execution_count": 20,
      "outputs": [
        {
          "output_type": "stream",
          "name": "stdout",
          "text": [
            "+--------+----------+---------+----------+---------------+--------------------+--------------------+\n",
            "|order_id|product_id|seller_id|      date|num_pieces_sold|       bill_raw_text|         hashed_bill|\n",
            "+--------+----------+---------+----------+---------------+--------------------+--------------------+\n",
            "|       1|         0|        0|2020-07-10|             26|kyeibuumwlyhuwksx...|f6fa2a8be04a4ead6...|\n",
            "|       2|         0|        0|2020-07-08|             13|jfyuoyfkeyqkckwbu...|13af9a32eb8a31513...|\n",
            "|       3|         0|        0|2020-07-05|             38|uyjihlzhzcswxcccx...|416376a64cd652e7b...|\n",
            "|       4|         0|        0|2020-07-05|             56|umnxvoqbdzpbwjqmz...|7a73a2250f416bb81...|\n",
            "|       5|         0|        0|2020-07-05|             11|zmqexmaawmvdpqhih...|787d361b162a6aa1a...|\n",
            "|       6|         0|        0|2020-07-01|             82|lmuhhkpyuoyslwmvX...|4d0e2c457714c5d08...|\n",
            "|       7|         0|        0|2020-07-04|             15|zoqweontumefxbgvu...|4540f452a7c4d5049...|\n",
            "|       8|         0|        0|2020-07-08|             79|sgldfgtcxufasnvsc...|f598b6a84660aab07...|\n",
            "|       9|         0|        0|2020-07-10|             25|jnykelwjjebgkwgmu...|28b93c1c62caa2b97...|\n",
            "|      10|         0|        0|2020-07-08|              8|yywjfihneygcvfnyl...|51d35e22937a5f4f2...|\n",
            "|      11|         0|        0|2020-07-01|             10|nxwejyoeznltdhcam...|000cbc89a752db6c4...|\n",
            "|      12|         0|        0|2020-07-06|             45|efmymeftivwsfljzt...|24ff0dd104d3a2696...|\n",
            "|      13|         0|        0|2020-07-10|             63|nxhvtospPhfnkavdy...|dd67ab7d952be16fa...|\n",
            "|      14|         0|        0|2020-07-03|             22|ypyusdsjzfpfbucnn...|4cbff9242bbdeac2e...|\n",
            "|      15|         0|        0|2020-07-09|             75|ymjvbhaxffyjcwzyn...|1ffcc4531e752f9a1...|\n",
            "|      16|         0|        0|2020-07-10|             83|phbcykkhvqsbkipwa...|23f761547f2a6a81e...|\n",
            "|      17|         0|        0|2020-07-04|             54|qgnGqqnjmbqZytoug...|2e93d3b4789a5fb76...|\n",
            "|      18|         0|        0|2020-07-04|             58|ozmllbabrnhebWcex...|61c544899872878c8...|\n",
            "|      19|         0|        0|2020-07-07|             33|kbrvXuzgiuinodtkg...|985ddbfaac225a8c2...|\n",
            "|      20|         0|        0|2020-07-09|             73|jnqjzaigjtqlfwpug...|0cd2eff15273f015a...|\n",
            "+--------+----------+---------+----------+---------------+--------------------+--------------------+\n",
            "only showing top 20 rows\n",
            "\n"
          ]
        }
      ]
    }
  ]
}
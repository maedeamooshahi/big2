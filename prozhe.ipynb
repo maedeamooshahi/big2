{
  "cells": [
    {
      "cell_type": "markdown",
      "metadata": {
        "id": "view-in-github",
        "colab_type": "text"
      },
      "source": [
        "<a href=\"https://colab.research.google.com/github/maedeamooshahi/big2/blob/main/prozhe.ipynb\" target=\"_parent\"><img src=\"https://colab.research.google.com/assets/colab-badge.svg\" alt=\"Open In Colab\"/></a>"
      ]
    },
    {
      "cell_type": "code",
      "execution_count": 1,
      "id": "8d5ed4f6",
      "metadata": {
        "id": "8d5ed4f6"
      },
      "outputs": [],
      "source": [
        "import pandas as pd"
      ]
    },
    {
      "cell_type": "code",
      "execution_count": 3,
      "id": "310cc866",
      "metadata": {
        "colab": {
          "base_uri": "https://localhost:8080/",
          "height": 386
        },
        "id": "310cc866",
        "outputId": "91207604-96e3-43da-d314-abfb68516e35"
      },
      "outputs": [
        {
          "output_type": "execute_result",
          "data": {
            "text/plain": [
              "   customerID gender  SeniorCitizen Partner Dependents  tenure PhoneService  \\\n",
              "0  5331-RGMTT   Male            1.0     Yes         No    54.0          Yes   \n",
              "1  5161-XEUVX   Male            0.0     Yes         No    37.0          Yes   \n",
              "2  0336-PIKEI   Male            1.0     Yes         No    72.0          Yes   \n",
              "3  3345-PBBFH   Male            0.0     Yes         No     8.0          Yes   \n",
              "4  5067-XJQFU   Male            1.0     Yes        Yes    66.0          Yes   \n",
              "\n",
              "  MultipleLines InternetService OnlineSecurity  ... DeviceProtection  \\\n",
              "0           Yes     Fiber optic             No  ...              Yes   \n",
              "1           Yes     Fiber optic             No  ...              Yes   \n",
              "2            No             DSL            Yes  ...              Yes   \n",
              "3            No             DSL             No  ...               No   \n",
              "4           Yes     Fiber optic             No  ...              Yes   \n",
              "\n",
              "  TechSupport StreamingTV StreamingMovies        Contract PaperlessBilling  \\\n",
              "0          No         Yes             Yes  Month-to-month              Yes   \n",
              "1         Yes         Yes              No        Two year               No   \n",
              "2         Yes         Yes              No        Two year               No   \n",
              "3          No          No              No  Month-to-month              Yes   \n",
              "4         Yes         Yes             Yes        One year              Yes   \n",
              "\n",
              "               PaymentMethod MonthlyCharges  TotalCharges  Label  \n",
              "0    Credit card (automatic)          99.05       5295.70     No  \n",
              "1               Mailed check          94.30       3460.95     No  \n",
              "2  Bank transfer (automatic)          74.40       5360.75     No  \n",
              "3  Bank transfer (automatic)          49.55        393.45     No  \n",
              "4           Electronic check         108.45       7076.35     No  \n",
              "\n",
              "[5 rows x 21 columns]"
            ],
            "text/html": [
              "\n",
              "  <div id=\"df-82a1188b-97f2-4689-ab6b-e9abb755e003\">\n",
              "    <div class=\"colab-df-container\">\n",
              "      <div>\n",
              "<style scoped>\n",
              "    .dataframe tbody tr th:only-of-type {\n",
              "        vertical-align: middle;\n",
              "    }\n",
              "\n",
              "    .dataframe tbody tr th {\n",
              "        vertical-align: top;\n",
              "    }\n",
              "\n",
              "    .dataframe thead th {\n",
              "        text-align: right;\n",
              "    }\n",
              "</style>\n",
              "<table border=\"1\" class=\"dataframe\">\n",
              "  <thead>\n",
              "    <tr style=\"text-align: right;\">\n",
              "      <th></th>\n",
              "      <th>customerID</th>\n",
              "      <th>gender</th>\n",
              "      <th>SeniorCitizen</th>\n",
              "      <th>Partner</th>\n",
              "      <th>Dependents</th>\n",
              "      <th>tenure</th>\n",
              "      <th>PhoneService</th>\n",
              "      <th>MultipleLines</th>\n",
              "      <th>InternetService</th>\n",
              "      <th>OnlineSecurity</th>\n",
              "      <th>...</th>\n",
              "      <th>DeviceProtection</th>\n",
              "      <th>TechSupport</th>\n",
              "      <th>StreamingTV</th>\n",
              "      <th>StreamingMovies</th>\n",
              "      <th>Contract</th>\n",
              "      <th>PaperlessBilling</th>\n",
              "      <th>PaymentMethod</th>\n",
              "      <th>MonthlyCharges</th>\n",
              "      <th>TotalCharges</th>\n",
              "      <th>Label</th>\n",
              "    </tr>\n",
              "  </thead>\n",
              "  <tbody>\n",
              "    <tr>\n",
              "      <th>0</th>\n",
              "      <td>5331-RGMTT</td>\n",
              "      <td>Male</td>\n",
              "      <td>1.0</td>\n",
              "      <td>Yes</td>\n",
              "      <td>No</td>\n",
              "      <td>54.0</td>\n",
              "      <td>Yes</td>\n",
              "      <td>Yes</td>\n",
              "      <td>Fiber optic</td>\n",
              "      <td>No</td>\n",
              "      <td>...</td>\n",
              "      <td>Yes</td>\n",
              "      <td>No</td>\n",
              "      <td>Yes</td>\n",
              "      <td>Yes</td>\n",
              "      <td>Month-to-month</td>\n",
              "      <td>Yes</td>\n",
              "      <td>Credit card (automatic)</td>\n",
              "      <td>99.05</td>\n",
              "      <td>5295.70</td>\n",
              "      <td>No</td>\n",
              "    </tr>\n",
              "    <tr>\n",
              "      <th>1</th>\n",
              "      <td>5161-XEUVX</td>\n",
              "      <td>Male</td>\n",
              "      <td>0.0</td>\n",
              "      <td>Yes</td>\n",
              "      <td>No</td>\n",
              "      <td>37.0</td>\n",
              "      <td>Yes</td>\n",
              "      <td>Yes</td>\n",
              "      <td>Fiber optic</td>\n",
              "      <td>No</td>\n",
              "      <td>...</td>\n",
              "      <td>Yes</td>\n",
              "      <td>Yes</td>\n",
              "      <td>Yes</td>\n",
              "      <td>No</td>\n",
              "      <td>Two year</td>\n",
              "      <td>No</td>\n",
              "      <td>Mailed check</td>\n",
              "      <td>94.30</td>\n",
              "      <td>3460.95</td>\n",
              "      <td>No</td>\n",
              "    </tr>\n",
              "    <tr>\n",
              "      <th>2</th>\n",
              "      <td>0336-PIKEI</td>\n",
              "      <td>Male</td>\n",
              "      <td>1.0</td>\n",
              "      <td>Yes</td>\n",
              "      <td>No</td>\n",
              "      <td>72.0</td>\n",
              "      <td>Yes</td>\n",
              "      <td>No</td>\n",
              "      <td>DSL</td>\n",
              "      <td>Yes</td>\n",
              "      <td>...</td>\n",
              "      <td>Yes</td>\n",
              "      <td>Yes</td>\n",
              "      <td>Yes</td>\n",
              "      <td>No</td>\n",
              "      <td>Two year</td>\n",
              "      <td>No</td>\n",
              "      <td>Bank transfer (automatic)</td>\n",
              "      <td>74.40</td>\n",
              "      <td>5360.75</td>\n",
              "      <td>No</td>\n",
              "    </tr>\n",
              "    <tr>\n",
              "      <th>3</th>\n",
              "      <td>3345-PBBFH</td>\n",
              "      <td>Male</td>\n",
              "      <td>0.0</td>\n",
              "      <td>Yes</td>\n",
              "      <td>No</td>\n",
              "      <td>8.0</td>\n",
              "      <td>Yes</td>\n",
              "      <td>No</td>\n",
              "      <td>DSL</td>\n",
              "      <td>No</td>\n",
              "      <td>...</td>\n",
              "      <td>No</td>\n",
              "      <td>No</td>\n",
              "      <td>No</td>\n",
              "      <td>No</td>\n",
              "      <td>Month-to-month</td>\n",
              "      <td>Yes</td>\n",
              "      <td>Bank transfer (automatic)</td>\n",
              "      <td>49.55</td>\n",
              "      <td>393.45</td>\n",
              "      <td>No</td>\n",
              "    </tr>\n",
              "    <tr>\n",
              "      <th>4</th>\n",
              "      <td>5067-XJQFU</td>\n",
              "      <td>Male</td>\n",
              "      <td>1.0</td>\n",
              "      <td>Yes</td>\n",
              "      <td>Yes</td>\n",
              "      <td>66.0</td>\n",
              "      <td>Yes</td>\n",
              "      <td>Yes</td>\n",
              "      <td>Fiber optic</td>\n",
              "      <td>No</td>\n",
              "      <td>...</td>\n",
              "      <td>Yes</td>\n",
              "      <td>Yes</td>\n",
              "      <td>Yes</td>\n",
              "      <td>Yes</td>\n",
              "      <td>One year</td>\n",
              "      <td>Yes</td>\n",
              "      <td>Electronic check</td>\n",
              "      <td>108.45</td>\n",
              "      <td>7076.35</td>\n",
              "      <td>No</td>\n",
              "    </tr>\n",
              "  </tbody>\n",
              "</table>\n",
              "<p>5 rows × 21 columns</p>\n",
              "</div>\n",
              "      <button class=\"colab-df-convert\" onclick=\"convertToInteractive('df-82a1188b-97f2-4689-ab6b-e9abb755e003')\"\n",
              "              title=\"Convert this dataframe to an interactive table.\"\n",
              "              style=\"display:none;\">\n",
              "        \n",
              "  <svg xmlns=\"http://www.w3.org/2000/svg\" height=\"24px\"viewBox=\"0 0 24 24\"\n",
              "       width=\"24px\">\n",
              "    <path d=\"M0 0h24v24H0V0z\" fill=\"none\"/>\n",
              "    <path d=\"M18.56 5.44l.94 2.06.94-2.06 2.06-.94-2.06-.94-.94-2.06-.94 2.06-2.06.94zm-11 1L8.5 8.5l.94-2.06 2.06-.94-2.06-.94L8.5 2.5l-.94 2.06-2.06.94zm10 10l.94 2.06.94-2.06 2.06-.94-2.06-.94-.94-2.06-.94 2.06-2.06.94z\"/><path d=\"M17.41 7.96l-1.37-1.37c-.4-.4-.92-.59-1.43-.59-.52 0-1.04.2-1.43.59L10.3 9.45l-7.72 7.72c-.78.78-.78 2.05 0 2.83L4 21.41c.39.39.9.59 1.41.59.51 0 1.02-.2 1.41-.59l7.78-7.78 2.81-2.81c.8-.78.8-2.07 0-2.86zM5.41 20L4 18.59l7.72-7.72 1.47 1.35L5.41 20z\"/>\n",
              "  </svg>\n",
              "      </button>\n",
              "      \n",
              "  <style>\n",
              "    .colab-df-container {\n",
              "      display:flex;\n",
              "      flex-wrap:wrap;\n",
              "      gap: 12px;\n",
              "    }\n",
              "\n",
              "    .colab-df-convert {\n",
              "      background-color: #E8F0FE;\n",
              "      border: none;\n",
              "      border-radius: 50%;\n",
              "      cursor: pointer;\n",
              "      display: none;\n",
              "      fill: #1967D2;\n",
              "      height: 32px;\n",
              "      padding: 0 0 0 0;\n",
              "      width: 32px;\n",
              "    }\n",
              "\n",
              "    .colab-df-convert:hover {\n",
              "      background-color: #E2EBFA;\n",
              "      box-shadow: 0px 1px 2px rgba(60, 64, 67, 0.3), 0px 1px 3px 1px rgba(60, 64, 67, 0.15);\n",
              "      fill: #174EA6;\n",
              "    }\n",
              "\n",
              "    [theme=dark] .colab-df-convert {\n",
              "      background-color: #3B4455;\n",
              "      fill: #D2E3FC;\n",
              "    }\n",
              "\n",
              "    [theme=dark] .colab-df-convert:hover {\n",
              "      background-color: #434B5C;\n",
              "      box-shadow: 0px 1px 3px 1px rgba(0, 0, 0, 0.15);\n",
              "      filter: drop-shadow(0px 1px 2px rgba(0, 0, 0, 0.3));\n",
              "      fill: #FFFFFF;\n",
              "    }\n",
              "  </style>\n",
              "\n",
              "      <script>\n",
              "        const buttonEl =\n",
              "          document.querySelector('#df-82a1188b-97f2-4689-ab6b-e9abb755e003 button.colab-df-convert');\n",
              "        buttonEl.style.display =\n",
              "          google.colab.kernel.accessAllowed ? 'block' : 'none';\n",
              "\n",
              "        async function convertToInteractive(key) {\n",
              "          const element = document.querySelector('#df-82a1188b-97f2-4689-ab6b-e9abb755e003');\n",
              "          const dataTable =\n",
              "            await google.colab.kernel.invokeFunction('convertToInteractive',\n",
              "                                                     [key], {});\n",
              "          if (!dataTable) return;\n",
              "\n",
              "          const docLinkHtml = 'Like what you see? Visit the ' +\n",
              "            '<a target=\"_blank\" href=https://colab.research.google.com/notebooks/data_table.ipynb>data table notebook</a>'\n",
              "            + ' to learn more about interactive tables.';\n",
              "          element.innerHTML = '';\n",
              "          dataTable['output_type'] = 'display_data';\n",
              "          await google.colab.output.renderOutput(dataTable, element);\n",
              "          const docLink = document.createElement('div');\n",
              "          docLink.innerHTML = docLinkHtml;\n",
              "          element.appendChild(docLink);\n",
              "        }\n",
              "      </script>\n",
              "    </div>\n",
              "  </div>\n",
              "  "
            ]
          },
          "metadata": {},
          "execution_count": 3
        }
      ],
      "source": [
        "df=pd.read_csv('/content/data.csv')\n",
        "df.head()"
      ]
    },
    {
      "cell_type": "code",
      "execution_count": 4,
      "id": "a445a18b",
      "metadata": {
        "colab": {
          "base_uri": "https://localhost:8080/"
        },
        "id": "a445a18b",
        "outputId": "09ee8338-19e1-43a7-901a-a7f112efa0cf"
      },
      "outputs": [
        {
          "output_type": "execute_result",
          "data": {
            "text/plain": [
              "['Partner',\n",
              " 'Dependents',\n",
              " 'PhoneService',\n",
              " 'MultipleLines',\n",
              " 'OnlineSecurity',\n",
              " 'OnlineBackup',\n",
              " 'DeviceProtection',\n",
              " 'TechSupport',\n",
              " 'StreamingTV',\n",
              " 'StreamingMovies',\n",
              " 'PaperlessBilling',\n",
              " 'Label']"
            ]
          },
          "metadata": {},
          "execution_count": 4
        }
      ],
      "source": [
        "list_convert=[]\n",
        "for col in df.columns:\n",
        "    if len(set(df[col]))<5 and 'Yes' in set(df[col]):\n",
        "        list_convert.append(col)\n",
        "list_convert"
      ]
    },
    {
      "cell_type": "code",
      "execution_count": 5,
      "id": "197bedb0",
      "metadata": {
        "id": "197bedb0"
      },
      "outputs": [],
      "source": [
        "def converter(x):\n",
        "    if x=='Yes':\n",
        "        return 1\n",
        "    elif x=='No':\n",
        "        return 0\n",
        "    elif type(x)!=float:\n",
        "        return 0.5\n",
        "    else: return x\n",
        "for colName in list_convert:\n",
        "    df[colName]=df[colName].apply(converter)\n",
        "\n",
        "import numpy as np"
      ]
    },
    {
      "cell_type": "code",
      "execution_count": 6,
      "id": "17d1db51",
      "metadata": {
        "colab": {
          "base_uri": "https://localhost:8080/"
        },
        "id": "17d1db51",
        "outputId": "2ddee7ca-85e2-4b54-febf-1fb5eb37cf8f"
      },
      "outputs": [
        {
          "output_type": "execute_result",
          "data": {
            "text/plain": [
              "customerID          34\n",
              "gender              48\n",
              "SeniorCitizen       48\n",
              "Partner             47\n",
              "Dependents          48\n",
              "tenure              41\n",
              "PhoneService        41\n",
              "MultipleLines       53\n",
              "InternetService     41\n",
              "OnlineSecurity      43\n",
              "OnlineBackup        49\n",
              "DeviceProtection    49\n",
              "TechSupport         52\n",
              "StreamingTV         45\n",
              "StreamingMovies     46\n",
              "Contract            46\n",
              "PaperlessBilling    46\n",
              "PaymentMethod       51\n",
              "MonthlyCharges      48\n",
              "TotalCharges        51\n",
              "Label               36\n",
              "dtype: int64"
            ]
          },
          "metadata": {},
          "execution_count": 6
        }
      ],
      "source": [
        "df.isnull().sum()"
      ]
    },
    {
      "cell_type": "code",
      "execution_count": 7,
      "id": "632f11e8",
      "metadata": {
        "colab": {
          "base_uri": "https://localhost:8080/"
        },
        "id": "632f11e8",
        "outputId": "8c7ae3d7-3f65-4095-c848-d94e925371df"
      },
      "outputs": [
        {
          "output_type": "stream",
          "name": "stdout",
          "text": [
            "<class 'pandas.core.frame.DataFrame'>\n",
            "RangeIndex: 44257 entries, 0 to 44256\n",
            "Data columns (total 21 columns):\n",
            " #   Column            Non-Null Count  Dtype  \n",
            "---  ------            --------------  -----  \n",
            " 0   customerID        44223 non-null  object \n",
            " 1   gender            44209 non-null  object \n",
            " 2   SeniorCitizen     44209 non-null  float64\n",
            " 3   Partner           44210 non-null  float64\n",
            " 4   Dependents        44209 non-null  float64\n",
            " 5   tenure            44216 non-null  float64\n",
            " 6   PhoneService      44216 non-null  float64\n",
            " 7   MultipleLines     44204 non-null  float64\n",
            " 8   InternetService   44216 non-null  object \n",
            " 9   OnlineSecurity    44214 non-null  float64\n",
            " 10  OnlineBackup      44208 non-null  float64\n",
            " 11  DeviceProtection  44208 non-null  float64\n",
            " 12  TechSupport       44205 non-null  float64\n",
            " 13  StreamingTV       44212 non-null  float64\n",
            " 14  StreamingMovies   44211 non-null  float64\n",
            " 15  Contract          44211 non-null  object \n",
            " 16  PaperlessBilling  44211 non-null  float64\n",
            " 17  PaymentMethod     44206 non-null  object \n",
            " 18  MonthlyCharges    44209 non-null  float64\n",
            " 19  TotalCharges      44206 non-null  float64\n",
            " 20  Label             44221 non-null  float64\n",
            "dtypes: float64(16), object(5)\n",
            "memory usage: 7.1+ MB\n"
          ]
        }
      ],
      "source": [
        "df.info()"
      ]
    },
    {
      "cell_type": "markdown",
      "id": "5ce10e4f",
      "metadata": {
        "id": "5ce10e4f"
      },
      "source": [
        "### filling missing values \n",
        "\n",
        "object types-->bfill,ffil\n",
        "\n",
        "numeric-->KNNimputer"
      ]
    },
    {
      "cell_type": "code",
      "execution_count": 8,
      "id": "be8b04c0",
      "metadata": {
        "id": "be8b04c0"
      },
      "outputs": [],
      "source": [
        "from sklearn.impute import KNNImputer\n",
        "for col in df.columns:\n",
        "    if df[col].dtype!='O':\n",
        "        imputer=KNNImputer()\n",
        "        df[col]=imputer.fit_transform(df[[col]])"
      ]
    },
    {
      "cell_type": "code",
      "execution_count": 9,
      "id": "ad0291eb",
      "metadata": {
        "colab": {
          "base_uri": "https://localhost:8080/"
        },
        "id": "ad0291eb",
        "outputId": "af7f9d58-e658-4b5b-dc3b-a76d0464abed"
      },
      "outputs": [
        {
          "output_type": "execute_result",
          "data": {
            "text/plain": [
              "customerID          34\n",
              "gender              48\n",
              "SeniorCitizen        0\n",
              "Partner              0\n",
              "Dependents           0\n",
              "tenure               0\n",
              "PhoneService         0\n",
              "MultipleLines        0\n",
              "InternetService     41\n",
              "OnlineSecurity       0\n",
              "OnlineBackup         0\n",
              "DeviceProtection     0\n",
              "TechSupport          0\n",
              "StreamingTV          0\n",
              "StreamingMovies      0\n",
              "Contract            46\n",
              "PaperlessBilling     0\n",
              "PaymentMethod       51\n",
              "MonthlyCharges       0\n",
              "TotalCharges         0\n",
              "Label                0\n",
              "dtype: int64"
            ]
          },
          "metadata": {},
          "execution_count": 9
        }
      ],
      "source": [
        "df.isnull().sum()"
      ]
    },
    {
      "cell_type": "code",
      "execution_count": 10,
      "id": "0e48085e",
      "metadata": {
        "id": "0e48085e"
      },
      "outputs": [],
      "source": [
        "df.fillna(method='bfill',inplace=True)"
      ]
    },
    {
      "cell_type": "code",
      "execution_count": 11,
      "id": "39df3446",
      "metadata": {
        "colab": {
          "base_uri": "https://localhost:8080/"
        },
        "id": "39df3446",
        "outputId": "2d50c78a-619a-43cb-b3b5-9651e219da29"
      },
      "outputs": [
        {
          "output_type": "execute_result",
          "data": {
            "text/plain": [
              "0"
            ]
          },
          "metadata": {},
          "execution_count": 11
        }
      ],
      "source": [
        "df.isnull().sum().sum()"
      ]
    },
    {
      "cell_type": "code",
      "execution_count": 12,
      "id": "eeb6e3a3",
      "metadata": {
        "id": "eeb6e3a3"
      },
      "outputs": [],
      "source": [
        "import matplotlib.pyplot as plt\n",
        "import seaborn as sns"
      ]
    },
    {
      "cell_type": "code",
      "execution_count": 13,
      "id": "877c2af7",
      "metadata": {
        "colab": {
          "base_uri": "https://localhost:8080/",
          "height": 689
        },
        "id": "877c2af7",
        "outputId": "2043afc5-24cb-4420-806f-a876f10aed40"
      },
      "outputs": [
        {
          "output_type": "execute_result",
          "data": {
            "text/plain": [
              "<matplotlib.axes._subplots.AxesSubplot at 0x7f817fccc110>"
            ]
          },
          "metadata": {},
          "execution_count": 13
        },
        {
          "output_type": "display_data",
          "data": {
            "text/plain": [
              "<Figure size 1080x720 with 2 Axes>"
            ],
            "image/png": "[encoded data removed]"
          },
          "metadata": {
            "needs_background": "light"
          }
        }
      ],
      "source": [
        "plt.figure(figsize=(15,10))\n",
        "sns.heatmap(df.corr(),annot=True)"
      ]
    },
    {
      "cell_type": "code",
      "execution_count": 14,
      "id": "f19df3a0",
      "metadata": {
        "colab": {
          "base_uri": "https://localhost:8080/",
          "height": 364
        },
        "id": "f19df3a0",
        "outputId": "29af10c3-0ad5-4a68-fdb5-21e54fca5832"
      },
      "outputs": [
        {
          "output_type": "execute_result",
          "data": {
            "text/plain": [
              "       SeniorCitizen       Partner    Dependents        tenure  PhoneService  \\\n",
              "count   44257.000000  44257.000000  44257.000000  44257.000000  44257.000000   \n",
              "mean        0.212445      0.628840      0.357077     49.474579      0.903700   \n",
              "std         0.872559      0.482864      0.478883     35.767288      0.294869   \n",
              "min         0.000000      0.000000      0.000000   -594.000000      0.000000   \n",
              "25%         0.000000      0.000000      0.000000     37.000000      1.000000   \n",
              "50%         0.000000      1.000000      0.000000     56.000000      1.000000   \n",
              "75%         0.000000      1.000000      1.000000     68.000000      1.000000   \n",
              "max        17.000000      1.000000      1.000000     72.000000      1.000000   \n",
              "\n",
              "       MultipleLines  OnlineSecurity  OnlineBackup  DeviceProtection  \\\n",
              "count   44257.000000    44257.000000  44257.000000      44257.000000   \n",
              "mean        0.595240        0.501606      0.572600          0.575722   \n",
              "std         0.465444        0.445928      0.439969          0.439456   \n",
              "min         0.000000        0.000000      0.000000          0.000000   \n",
              "25%         0.000000        0.000000      0.000000          0.000000   \n",
              "50%         1.000000        0.500000      0.500000          0.500000   \n",
              "75%         1.000000        1.000000      1.000000          1.000000   \n",
              "max         1.000000        1.000000      1.000000          1.000000   \n",
              "\n",
              "        TechSupport   StreamingTV  StreamingMovies  PaperlessBilling  \\\n",
              "count  44257.000000  44257.000000     44257.000000      44257.000000   \n",
              "mean       0.500486      0.589670         0.597691          0.598132   \n",
              "std        0.445924      0.436812         0.435110          0.490026   \n",
              "min        0.000000      0.000000         0.000000          0.000000   \n",
              "25%        0.000000      0.000000         0.000000          0.000000   \n",
              "50%        0.500000      0.500000         0.500000          1.000000   \n",
              "75%        1.000000      1.000000         1.000000          1.000000   \n",
              "max        1.000000      1.000000         1.000000          1.000000   \n",
              "\n",
              "       MonthlyCharges  TotalCharges         Label  \n",
              "count    44257.000000  44257.000000  44257.000000  \n",
              "mean       130.770147   3697.171917      0.146899  \n",
              "std        888.482831   2329.229223      0.353865  \n",
              "min         18.250000     18.850000      0.000000  \n",
              "25%         45.050000   1502.250000      0.000000  \n",
              "50%         79.100000   3527.000000      0.000000  \n",
              "75%         97.100000   5673.700000      0.000000  \n",
              "max      14990.000000   8684.800000      1.000000  "
            ],
            "text/html": [
              "\n",
              "  <div id=\"df-c6a87271-2cf3-472a-b83e-a23a6c63856c\">\n",
              "    <div class=\"colab-df-container\">\n",
              "      <div>\n",
              "<style scoped>\n",
              "    .dataframe tbody tr th:only-of-type {\n",
              "        vertical-align: middle;\n",
              "    }\n",
              "\n",
              "    .dataframe tbody tr th {\n",
              "        vertical-align: top;\n",
              "    }\n",
              "\n",
              "    .dataframe thead th {\n",
              "        text-align: right;\n",
              "    }\n",
              "</style>\n",
              "<table border=\"1\" class=\"dataframe\">\n",
              "  <thead>\n",
              "    <tr style=\"text-align: right;\">\n",
              "      <th></th>\n",
              "      <th>SeniorCitizen</th>\n",
              "      <th>Partner</th>\n",
              "      <th>Dependents</th>\n",
              "      <th>tenure</th>\n",
              "      <th>PhoneService</th>\n",
              "      <th>MultipleLines</th>\n",
              "      <th>OnlineSecurity</th>\n",
              "      <th>OnlineBackup</th>\n",
              "      <th>DeviceProtection</th>\n",
              "      <th>TechSupport</th>\n",
              "      <th>StreamingTV</th>\n",
              "      <th>StreamingMovies</th>\n",
              "      <th>PaperlessBilling</th>\n",
              "      <th>MonthlyCharges</th>\n",
              "      <th>TotalCharges</th>\n",
              "      <th>Label</th>\n",
              "    </tr>\n",
              "  </thead>\n",
              "  <tbody>\n",
              "    <tr>\n",
              "      <th>count</th>\n",
              "      <td>44257.000000</td>\n",
              "      <td>44257.000000</td>\n",
              "      <td>44257.000000</td>\n",
              "      <td>44257.000000</td>\n",
              "      <td>44257.000000</td>\n",
              "      <td>44257.000000</td>\n",
              "      <td>44257.000000</td>\n",
              "      <td>44257.000000</td>\n",
              "      <td>44257.000000</td>\n",
              "      <td>44257.000000</td>\n",
              "      <td>44257.000000</td>\n",
              "      <td>44257.000000</td>\n",
              "      <td>44257.000000</td>\n",
              "      <td>44257.000000</td>\n",
              "      <td>44257.000000</td>\n",
              "      <td>44257.000000</td>\n",
              "    </tr>\n",
              "    <tr>\n",
              "      <th>mean</th>\n",
              "      <td>0.212445</td>\n",
              "      <td>0.628840</td>\n",
              "      <td>0.357077</td>\n",
              "      <td>49.474579</td>\n",
              "      <td>0.903700</td>\n",
              "      <td>0.595240</td>\n",
              "      <td>0.501606</td>\n",
              "      <td>0.572600</td>\n",
              "      <td>0.575722</td>\n",
              "      <td>0.500486</td>\n",
              "      <td>0.589670</td>\n",
              "      <td>0.597691</td>\n",
              "      <td>0.598132</td>\n",
              "      <td>130.770147</td>\n",
              "      <td>3697.171917</td>\n",
              "      <td>0.146899</td>\n",
              "    </tr>\n",
              "    <tr>\n",
              "      <th>std</th>\n",
              "      <td>0.872559</td>\n",
              "      <td>0.482864</td>\n",
              "      <td>0.478883</td>\n",
              "      <td>35.767288</td>\n",
              "      <td>0.294869</td>\n",
              "      <td>0.465444</td>\n",
              "      <td>0.445928</td>\n",
              "      <td>0.439969</td>\n",
              "      <td>0.439456</td>\n",
              "      <td>0.445924</td>\n",
              "      <td>0.436812</td>\n",
              "      <td>0.435110</td>\n",
              "      <td>0.490026</td>\n",
              "      <td>888.482831</td>\n",
              "      <td>2329.229223</td>\n",
              "      <td>0.353865</td>\n",
              "    </tr>\n",
              "    <tr>\n",
              "      <th>min</th>\n",
              "      <td>0.000000</td>\n",
              "      <td>0.000000</td>\n",
              "      <td>0.000000</td>\n",
              "      <td>-594.000000</td>\n",
              "      <td>0.000000</td>\n",
              "      <td>0.000000</td>\n",
              "      <td>0.000000</td>\n",
              "      <td>0.000000</td>\n",
              "      <td>0.000000</td>\n",
              "      <td>0.000000</td>\n",
              "      <td>0.000000</td>\n",
              "      <td>0.000000</td>\n",
              "      <td>0.000000</td>\n",
              "      <td>18.250000</td>\n",
              "      <td>18.850000</td>\n",
              "      <td>0.000000</td>\n",
              "    </tr>\n",
              "    <tr>\n",
              "      <th>25%</th>\n",
              "      <td>0.000000</td>\n",
              "      <td>0.000000</td>\n",
              "      <td>0.000000</td>\n",
              "      <td>37.000000</td>\n",
              "      <td>1.000000</td>\n",
              "      <td>0.000000</td>\n",
              "      <td>0.000000</td>\n",
              "      <td>0.000000</td>\n",
              "      <td>0.000000</td>\n",
              "      <td>0.000000</td>\n",
              "      <td>0.000000</td>\n",
              "      <td>0.000000</td>\n",
              "      <td>0.000000</td>\n",
              "      <td>45.050000</td>\n",
              "      <td>1502.250000</td>\n",
              "      <td>0.000000</td>\n",
              "    </tr>\n",
              "    <tr>\n",
              "      <th>50%</th>\n",
              "      <td>0.000000</td>\n",
              "      <td>1.000000</td>\n",
              "      <td>0.000000</td>\n",
              "      <td>56.000000</td>\n",
              "      <td>1.000000</td>\n",
              "      <td>1.000000</td>\n",
              "      <td>0.500000</td>\n",
              "      <td>0.500000</td>\n",
              "      <td>0.500000</td>\n",
              "      <td>0.500000</td>\n",
              "      <td>0.500000</td>\n",
              "      <td>0.500000</td>\n",
              "      <td>1.000000</td>\n",
              "      <td>79.100000</td>\n",
              "      <td>3527.000000</td>\n",
              "      <td>0.000000</td>\n",
              "    </tr>\n",
              "    <tr>\n",
              "      <th>75%</th>\n",
              "      <td>0.000000</td>\n",
              "      <td>1.000000</td>\n",
              "      <td>1.000000</td>\n",
              "      <td>68.000000</td>\n",
              "      <td>1.000000</td>\n",
              "      <td>1.000000</td>\n",
              "      <td>1.000000</td>\n",
              "      <td>1.000000</td>\n",
              "      <td>1.000000</td>\n",
              "      <td>1.000000</td>\n",
              "      <td>1.000000</td>\n",
              "      <td>1.000000</td>\n",
              "      <td>1.000000</td>\n",
              "      <td>97.100000</td>\n",
              "      <td>5673.700000</td>\n",
              "      <td>0.000000</td>\n",
              "    </tr>\n",
              "    <tr>\n",
              "      <th>max</th>\n",
              "      <td>17.000000</td>\n",
              "      <td>1.000000</td>\n",
              "      <td>1.000000</td>\n",
              "      <td>72.000000</td>\n",
              "      <td>1.000000</td>\n",
              "      <td>1.000000</td>\n",
              "      <td>1.000000</td>\n",
              "      <td>1.000000</td>\n",
              "      <td>1.000000</td>\n",
              "      <td>1.000000</td>\n",
              "      <td>1.000000</td>\n",
              "      <td>1.000000</td>\n",
              "      <td>1.000000</td>\n",
              "      <td>14990.000000</td>\n",
              "      <td>8684.800000</td>\n",
              "      <td>1.000000</td>\n",
              "    </tr>\n",
              "  </tbody>\n",
              "</table>\n",
              "</div>\n",
              "      <button class=\"colab-df-convert\" onclick=\"convertToInteractive('df-c6a87271-2cf3-472a-b83e-a23a6c63856c')\"\n",
              "              title=\"Convert this dataframe to an interactive table.\"\n",
              "              style=\"display:none;\">\n",
              "        \n",
              "  <svg xmlns=\"http://www.w3.org/2000/svg\" height=\"24px\"viewBox=\"0 0 24 24\"\n",
              "       width=\"24px\">\n",
              "    <path d=\"M0 0h24v24H0V0z\" fill=\"none\"/>\n",
              "    <path d=\"M18.56 5.44l.94 2.06.94-2.06 2.06-.94-2.06-.94-.94-2.06-.94 2.06-2.06.94zm-11 1L8.5 8.5l.94-2.06 2.06-.94-2.06-.94L8.5 2.5l-.94 2.06-2.06.94zm10 10l.94 2.06.94-2.06 2.06-.94-2.06-.94-.94-2.06-.94 2.06-2.06.94z\"/><path d=\"M17.41 7.96l-1.37-1.37c-.4-.4-.92-.59-1.43-.59-.52 0-1.04.2-1.43.59L10.3 9.45l-7.72 7.72c-.78.78-.78 2.05 0 2.83L4 21.41c.39.39.9.59 1.41.59.51 0 1.02-.2 1.41-.59l7.78-7.78 2.81-2.81c.8-.78.8-2.07 0-2.86zM5.41 20L4 18.59l7.72-7.72 1.47 1.35L5.41 20z\"/>\n",
              "  </svg>\n",
              "      </button>\n",
              "      \n",
              "  <style>\n",
              "    .colab-df-container {\n",
              "      display:flex;\n",
              "      flex-wrap:wrap;\n",
              "      gap: 12px;\n",
              "    }\n",
              "\n",
              "    .colab-df-convert {\n",
              "      background-color: #E8F0FE;\n",
              "      border: none;\n",
              "      border-radius: 50%;\n",
              "      cursor: pointer;\n",
              "      display: none;\n",
              "      fill: #1967D2;\n",
              "      height: 32px;\n",
              "      padding: 0 0 0 0;\n",
              "      width: 32px;\n",
              "    }\n",
              "\n",
              "    .colab-df-convert:hover {\n",
              "      background-color: #E2EBFA;\n",
              "      box-shadow: 0px 1px 2px rgba(60, 64, 67, 0.3), 0px 1px 3px 1px rgba(60, 64, 67, 0.15);\n",
              "      fill: #174EA6;\n",
              "    }\n",
              "\n",
              "    [theme=dark] .colab-df-convert {\n",
              "      background-color: #3B4455;\n",
              "      fill: #D2E3FC;\n",
              "    }\n",
              "\n",
              "    [theme=dark] .colab-df-convert:hover {\n",
              "      background-color: #434B5C;\n",
              "      box-shadow: 0px 1px 3px 1px rgba(0, 0, 0, 0.15);\n",
              "      filter: drop-shadow(0px 1px 2px rgba(0, 0, 0, 0.3));\n",
              "      fill: #FFFFFF;\n",
              "    }\n",
              "  </style>\n",
              "\n",
              "      <script>\n",
              "        const buttonEl =\n",
              "          document.querySelector('#df-c6a87271-2cf3-472a-b83e-a23a6c63856c button.colab-df-convert');\n",
              "        buttonEl.style.display =\n",
              "          google.colab.kernel.accessAllowed ? 'block' : 'none';\n",
              "\n",
              "        async function convertToInteractive(key) {\n",
              "          const element = document.querySelector('#df-c6a87271-2cf3-472a-b83e-a23a6c63856c');\n",
              "          const dataTable =\n",
              "            await google.colab.kernel.invokeFunction('convertToInteractive',\n",
              "                                                     [key], {});\n",
              "          if (!dataTable) return;\n",
              "\n",
              "          const docLinkHtml = 'Like what you see? Visit the ' +\n",
              "            '<a target=\"_blank\" href=https://colab.research.google.com/notebooks/data_table.ipynb>data table notebook</a>'\n",
              "            + ' to learn more about interactive tables.';\n",
              "          element.innerHTML = '';\n",
              "          dataTable['output_type'] = 'display_data';\n",
              "          await google.colab.output.renderOutput(dataTable, element);\n",
              "          const docLink = document.createElement('div');\n",
              "          docLink.innerHTML = docLinkHtml;\n",
              "          element.appendChild(docLink);\n",
              "        }\n",
              "      </script>\n",
              "    </div>\n",
              "  </div>\n",
              "  "
            ]
          },
          "metadata": {},
          "execution_count": 14
        }
      ],
      "source": [
        "df.describe()"
      ]
    },
    {
      "cell_type": "markdown",
      "id": "1e45ae1c",
      "metadata": {
        "id": "1e45ae1c"
      },
      "source": [
        "######  MonthlyCharges and TotalCharges columns have some outliers and we shood handle this issue and citizenSenior columns have many bad data so we should drop this column"
      ]
    },
    {
      "cell_type": "code",
      "execution_count": 15,
      "id": "11b696ee",
      "metadata": {
        "id": "11b696ee"
      },
      "outputs": [],
      "source": [
        "df.drop('SeniorCitizen',axis=1,inplace=True)"
      ]
    },
    {
      "cell_type": "code",
      "execution_count": 16,
      "id": "c99a56c4",
      "metadata": {
        "id": "c99a56c4"
      },
      "outputs": [],
      "source": [
        "def outlier_finder(df):\n",
        "    index_list=[]\n",
        "    q1=df.quantile(0.25)\n",
        "    q3=df.quantile(0.75)\n",
        "    iqr=q3-q1\n",
        "    higher_bound=q3+1.5*iqr\n",
        "    lower_bound=q1-1.5*iqr\n",
        "    index_list.extend((df[(df<lower_bound) | (df>higher_bound)]).index)\n",
        "    return index_list"
      ]
    },
    {
      "cell_type": "code",
      "execution_count": 17,
      "id": "7a79ca38",
      "metadata": {
        "colab": {
          "base_uri": "https://localhost:8080/"
        },
        "id": "7a79ca38",
        "outputId": "8e59ae02-ab18-4686-bc31-433ef23ce4d2"
      },
      "outputs": [
        {
          "output_type": "execute_result",
          "data": {
            "text/plain": [
              "317"
            ]
          },
          "metadata": {},
          "execution_count": 17
        }
      ],
      "source": [
        "list_index=[]\n",
        "for col in ['MonthlyCharges','TotalCharges','tenure']:\n",
        "    list_index.extend(outlier_finder(df[col]))\n",
        "len(list_index)"
      ]
    },
    {
      "cell_type": "code",
      "execution_count": 18,
      "id": "d59ce3d4",
      "metadata": {
        "id": "d59ce3d4"
      },
      "outputs": [],
      "source": [
        "df.drop(list_index,inplace=True)"
      ]
    },
    {
      "cell_type": "code",
      "execution_count": 19,
      "id": "d12be6d5",
      "metadata": {
        "id": "d12be6d5"
      },
      "outputs": [],
      "source": [
        "colNoneObject=df.drop(['customerID','gender','InternetService','Contract','PaymentMethod'],axis=1).columns\n",
        "colNumericsVar=[df[x].var() for x in colNoneObject]"
      ]
    },
    {
      "cell_type": "code",
      "execution_count": 20,
      "id": "7927e761",
      "metadata": {
        "colab": {
          "base_uri": "https://localhost:8080/"
        },
        "id": "7927e761",
        "outputId": "ff6b3347-afa0-4078-96a6-ff5d3877a3e5"
      },
      "outputs": [
        {
          "output_type": "execute_result",
          "data": {
            "text/plain": [
              "{'Dependents': 0.2289757984024327,\n",
              " 'DeviceProtection': 0.192848063125888,\n",
              " 'Label': 0.12526078096757043,\n",
              " 'MonthlyCharges': 977.9680800116575,\n",
              " 'MultipleLines': 0.21643822504213484,\n",
              " 'OnlineBackup': 0.19359706989566133,\n",
              " 'OnlineSecurity': 0.19865012857243575,\n",
              " 'PaperlessBilling': 0.2401078761104192,\n",
              " 'Partner': 0.23348660768117044,\n",
              " 'PhoneService': 0.08750753794739978,\n",
              " 'StreamingMovies': 0.1888752334697289,\n",
              " 'StreamingTV': 0.190521153203349,\n",
              " 'TechSupport': 0.1986447090950293,\n",
              " 'TotalCharges': 5414971.083683757,\n",
              " 'tenure': 366.5178538672205}"
            ]
          },
          "metadata": {},
          "execution_count": 20
        }
      ],
      "source": [
        "varPerCol=dict(zip(colNoneObject,colNumericsVar))\n",
        "varPerCol"
      ]
    },
    {
      "cell_type": "code",
      "execution_count": 21,
      "id": "b820ea4e",
      "metadata": {
        "colab": {
          "base_uri": "https://localhost:8080/",
          "height": 609
        },
        "id": "b820ea4e",
        "outputId": "e28e4a1e-9ec9-4edf-979e-e48551489a8d"
      },
      "outputs": [
        {
          "output_type": "execute_result",
          "data": {
            "text/plain": [
              "<matplotlib.axes._subplots.AxesSubplot at 0x7f817ece2110>"
            ]
          },
          "metadata": {},
          "execution_count": 21
        },
        {
          "output_type": "display_data",
          "data": {
            "text/plain": [
              "<Figure size 1080x720 with 2 Axes>"
            ],
            "image/png": "[encoded data removed]"
          },
          "metadata": {
            "needs_background": "light"
          }
        }
      ],
      "source": [
        "fig,axs=plt.subplots(1,2,figsize=(15,10))\n",
        "sns.barplot(y=[x for x in varPerCol.keys() if x not in ['tenure','MonthlyCharges','TotalCharges']],\n",
        "            x=[x for x in varPerCol.values() if x<1],ax=axs[0])\n",
        "\n",
        "sns.barplot(y=[x for x in varPerCol.keys() if x in ['tenure','MonthlyCharges','TotalCharges']],\n",
        "            x=[x%978 for x in varPerCol.values() if x>1],ax=axs[1])"
      ]
    },
    {
      "cell_type": "markdown",
      "id": "f004c1a4",
      "metadata": {
        "id": "f004c1a4"
      },
      "source": [
        "##### columns that have low varience have low data for us so we dont need them"
      ]
    },
    {
      "cell_type": "code",
      "execution_count": 22,
      "id": "709457c4",
      "metadata": {
        "colab": {
          "base_uri": "https://localhost:8080/",
          "height": 357
        },
        "id": "709457c4",
        "outputId": "c61f4b0c-0236-4522-d388-59435d329780"
      },
      "outputs": [
        {
          "output_type": "execute_result",
          "data": {
            "text/plain": [
              "   customerID gender  Partner  Dependents  tenure  PhoneService  \\\n",
              "0  5331-RGMTT   Male      1.0         0.0    54.0           1.0   \n",
              "1  5161-XEUVX   Male      1.0         0.0    37.0           1.0   \n",
              "2  0336-PIKEI   Male      1.0         0.0    72.0           1.0   \n",
              "3  3345-PBBFH   Male      1.0         0.0     8.0           1.0   \n",
              "4  5067-XJQFU   Male      1.0         1.0    66.0           1.0   \n",
              "\n",
              "   MultipleLines InternetService  OnlineSecurity  OnlineBackup  \\\n",
              "0            1.0     Fiber optic             0.0           0.0   \n",
              "1            1.0     Fiber optic             0.0           0.0   \n",
              "2            0.0             DSL             1.0           1.0   \n",
              "3            0.0             DSL             0.0           1.0   \n",
              "4            1.0     Fiber optic             0.0           1.0   \n",
              "\n",
              "   DeviceProtection  TechSupport  StreamingTV  StreamingMovies  \\\n",
              "0               1.0          0.0          1.0              1.0   \n",
              "1               1.0          1.0          1.0              0.0   \n",
              "2               1.0          1.0          1.0              0.0   \n",
              "3               0.0          0.0          0.0              0.0   \n",
              "4               1.0          1.0          1.0              1.0   \n",
              "\n",
              "         Contract  PaperlessBilling              PaymentMethod  \\\n",
              "0  Month-to-month               1.0    Credit card (automatic)   \n",
              "1        Two year               0.0               Mailed check   \n",
              "2        Two year               0.0  Bank transfer (automatic)   \n",
              "3  Month-to-month               1.0  Bank transfer (automatic)   \n",
              "4        One year               1.0           Electronic check   \n",
              "\n",
              "   MonthlyCharges  TotalCharges  Label  \n",
              "0           99.05       5295.70    0.0  \n",
              "1           94.30       3460.95    0.0  \n",
              "2           74.40       5360.75    0.0  \n",
              "3           49.55        393.45    0.0  \n",
              "4          108.45       7076.35    0.0  "
            ],
            "text/html": [
              "\n",
              "  <div id=\"df-58629a8f-21fc-48ea-8150-d85971a0a9da\">\n",
              "    <div class=\"colab-df-container\">\n",
              "      <div>\n",
              "<style scoped>\n",
              "    .dataframe tbody tr th:only-of-type {\n",
              "        vertical-align: middle;\n",
              "    }\n",
              "\n",
              "    .dataframe tbody tr th {\n",
              "        vertical-align: top;\n",
              "    }\n",
              "\n",
              "    .dataframe thead th {\n",
              "        text-align: right;\n",
              "    }\n",
              "</style>\n",
              "<table border=\"1\" class=\"dataframe\">\n",
              "  <thead>\n",
              "    <tr style=\"text-align: right;\">\n",
              "      <th></th>\n",
              "      <th>customerID</th>\n",
              "      <th>gender</th>\n",
              "      <th>Partner</th>\n",
              "      <th>Dependents</th>\n",
              "      <th>tenure</th>\n",
              "      <th>PhoneService</th>\n",
              "      <th>MultipleLines</th>\n",
              "      <th>InternetService</th>\n",
              "      <th>OnlineSecurity</th>\n",
              "      <th>OnlineBackup</th>\n",
              "      <th>DeviceProtection</th>\n",
              "      <th>TechSupport</th>\n",
              "      <th>StreamingTV</th>\n",
              "      <th>StreamingMovies</th>\n",
              "      <th>Contract</th>\n",
              "      <th>PaperlessBilling</th>\n",
              "      <th>PaymentMethod</th>\n",
              "      <th>MonthlyCharges</th>\n",
              "      <th>TotalCharges</th>\n",
              "      <th>Label</th>\n",
              "    </tr>\n",
              "  </thead>\n",
              "  <tbody>\n",
              "    <tr>\n",
              "      <th>0</th>\n",
              "      <td>5331-RGMTT</td>\n",
              "      <td>Male</td>\n",
              "      <td>1.0</td>\n",
              "      <td>0.0</td>\n",
              "      <td>54.0</td>\n",
              "      <td>1.0</td>\n",
              "      <td>1.0</td>\n",
              "      <td>Fiber optic</td>\n",
              "      <td>0.0</td>\n",
              "      <td>0.0</td>\n",
              "      <td>1.0</td>\n",
              "      <td>0.0</td>\n",
              "      <td>1.0</td>\n",
              "      <td>1.0</td>\n",
              "      <td>Month-to-month</td>\n",
              "      <td>1.0</td>\n",
              "      <td>Credit card (automatic)</td>\n",
              "      <td>99.05</td>\n",
              "      <td>5295.70</td>\n",
              "      <td>0.0</td>\n",
              "    </tr>\n",
              "    <tr>\n",
              "      <th>1</th>\n",
              "      <td>5161-XEUVX</td>\n",
              "      <td>Male</td>\n",
              "      <td>1.0</td>\n",
              "      <td>0.0</td>\n",
              "      <td>37.0</td>\n",
              "      <td>1.0</td>\n",
              "      <td>1.0</td>\n",
              "      <td>Fiber optic</td>\n",
              "      <td>0.0</td>\n",
              "      <td>0.0</td>\n",
              "      <td>1.0</td>\n",
              "      <td>1.0</td>\n",
              "      <td>1.0</td>\n",
              "      <td>0.0</td>\n",
              "      <td>Two year</td>\n",
              "      <td>0.0</td>\n",
              "      <td>Mailed check</td>\n",
              "      <td>94.30</td>\n",
              "      <td>3460.95</td>\n",
              "      <td>0.0</td>\n",
              "    </tr>\n",
              "    <tr>\n",
              "      <th>2</th>\n",
              "      <td>0336-PIKEI</td>\n",
              "      <td>Male</td>\n",
              "      <td>1.0</td>\n",
              "      <td>0.0</td>\n",
              "      <td>72.0</td>\n",
              "      <td>1.0</td>\n",
              "      <td>0.0</td>\n",
              "      <td>DSL</td>\n",
              "      <td>1.0</td>\n",
              "      <td>1.0</td>\n",
              "      <td>1.0</td>\n",
              "      <td>1.0</td>\n",
              "      <td>1.0</td>\n",
              "      <td>0.0</td>\n",
              "      <td>Two year</td>\n",
              "      <td>0.0</td>\n",
              "      <td>Bank transfer (automatic)</td>\n",
              "      <td>74.40</td>\n",
              "      <td>5360.75</td>\n",
              "      <td>0.0</td>\n",
              "    </tr>\n",
              "    <tr>\n",
              "      <th>3</th>\n",
              "      <td>3345-PBBFH</td>\n",
              "      <td>Male</td>\n",
              "      <td>1.0</td>\n",
              "      <td>0.0</td>\n",
              "      <td>8.0</td>\n",
              "      <td>1.0</td>\n",
              "      <td>0.0</td>\n",
              "      <td>DSL</td>\n",
              "      <td>0.0</td>\n",
              "      <td>1.0</td>\n",
              "      <td>0.0</td>\n",
              "      <td>0.0</td>\n",
              "      <td>0.0</td>\n",
              "      <td>0.0</td>\n",
              "      <td>Month-to-month</td>\n",
              "      <td>1.0</td>\n",
              "      <td>Bank transfer (automatic)</td>\n",
              "      <td>49.55</td>\n",
              "      <td>393.45</td>\n",
              "      <td>0.0</td>\n",
              "    </tr>\n",
              "    <tr>\n",
              "      <th>4</th>\n",
              "      <td>5067-XJQFU</td>\n",
              "      <td>Male</td>\n",
              "      <td>1.0</td>\n",
              "      <td>1.0</td>\n",
              "      <td>66.0</td>\n",
              "      <td>1.0</td>\n",
              "      <td>1.0</td>\n",
              "      <td>Fiber optic</td>\n",
              "      <td>0.0</td>\n",
              "      <td>1.0</td>\n",
              "      <td>1.0</td>\n",
              "      <td>1.0</td>\n",
              "      <td>1.0</td>\n",
              "      <td>1.0</td>\n",
              "      <td>One year</td>\n",
              "      <td>1.0</td>\n",
              "      <td>Electronic check</td>\n",
              "      <td>108.45</td>\n",
              "      <td>7076.35</td>\n",
              "      <td>0.0</td>\n",
              "    </tr>\n",
              "  </tbody>\n",
              "</table>\n",
              "</div>\n",
              "      <button class=\"colab-df-convert\" onclick=\"convertToInteractive('df-58629a8f-21fc-48ea-8150-d85971a0a9da')\"\n",
              "              title=\"Convert this dataframe to an interactive table.\"\n",
              "              style=\"display:none;\">\n",
              "        \n",
              "  <svg xmlns=\"http://www.w3.org/2000/svg\" height=\"24px\"viewBox=\"0 0 24 24\"\n",
              "       width=\"24px\">\n",
              "    <path d=\"M0 0h24v24H0V0z\" fill=\"none\"/>\n",
              "    <path d=\"M18.56 5.44l.94 2.06.94-2.06 2.06-.94-2.06-.94-.94-2.06-.94 2.06-2.06.94zm-11 1L8.5 8.5l.94-2.06 2.06-.94-2.06-.94L8.5 2.5l-.94 2.06-2.06.94zm10 10l.94 2.06.94-2.06 2.06-.94-2.06-.94-.94-2.06-.94 2.06-2.06.94z\"/><path d=\"M17.41 7.96l-1.37-1.37c-.4-.4-.92-.59-1.43-.59-.52 0-1.04.2-1.43.59L10.3 9.45l-7.72 7.72c-.78.78-.78 2.05 0 2.83L4 21.41c.39.39.9.59 1.41.59.51 0 1.02-.2 1.41-.59l7.78-7.78 2.81-2.81c.8-.78.8-2.07 0-2.86zM5.41 20L4 18.59l7.72-7.72 1.47 1.35L5.41 20z\"/>\n",
              "  </svg>\n",
              "      </button>\n",
              "      \n",
              "  <style>\n",
              "    .colab-df-container {\n",
              "      display:flex;\n",
              "      flex-wrap:wrap;\n",
              "      gap: 12px;\n",
              "    }\n",
              "\n",
              "    .colab-df-convert {\n",
              "      background-color: #E8F0FE;\n",
              "      border: none;\n",
              "      border-radius: 50%;\n",
              "      cursor: pointer;\n",
              "      display: none;\n",
              "      fill: #1967D2;\n",
              "      height: 32px;\n",
              "      padding: 0 0 0 0;\n",
              "      width: 32px;\n",
              "    }\n",
              "\n",
              "    .colab-df-convert:hover {\n",
              "      background-color: #E2EBFA;\n",
              "      box-shadow: 0px 1px 2px rgba(60, 64, 67, 0.3), 0px 1px 3px 1px rgba(60, 64, 67, 0.15);\n",
              "      fill: #174EA6;\n",
              "    }\n",
              "\n",
              "    [theme=dark] .colab-df-convert {\n",
              "      background-color: #3B4455;\n",
              "      fill: #D2E3FC;\n",
              "    }\n",
              "\n",
              "    [theme=dark] .colab-df-convert:hover {\n",
              "      background-color: #434B5C;\n",
              "      box-shadow: 0px 1px 3px 1px rgba(0, 0, 0, 0.15);\n",
              "      filter: drop-shadow(0px 1px 2px rgba(0, 0, 0, 0.3));\n",
              "      fill: #FFFFFF;\n",
              "    }\n",
              "  </style>\n",
              "\n",
              "      <script>\n",
              "        const buttonEl =\n",
              "          document.querySelector('#df-58629a8f-21fc-48ea-8150-d85971a0a9da button.colab-df-convert');\n",
              "        buttonEl.style.display =\n",
              "          google.colab.kernel.accessAllowed ? 'block' : 'none';\n",
              "\n",
              "        async function convertToInteractive(key) {\n",
              "          const element = document.querySelector('#df-58629a8f-21fc-48ea-8150-d85971a0a9da');\n",
              "          const dataTable =\n",
              "            await google.colab.kernel.invokeFunction('convertToInteractive',\n",
              "                                                     [key], {});\n",
              "          if (!dataTable) return;\n",
              "\n",
              "          const docLinkHtml = 'Like what you see? Visit the ' +\n",
              "            '<a target=\"_blank\" href=https://colab.research.google.com/notebooks/data_table.ipynb>data table notebook</a>'\n",
              "            + ' to learn more about interactive tables.';\n",
              "          element.innerHTML = '';\n",
              "          dataTable['output_type'] = 'display_data';\n",
              "          await google.colab.output.renderOutput(dataTable, element);\n",
              "          const docLink = document.createElement('div');\n",
              "          docLink.innerHTML = docLinkHtml;\n",
              "          element.appendChild(docLink);\n",
              "        }\n",
              "      </script>\n",
              "    </div>\n",
              "  </div>\n",
              "  "
            ]
          },
          "metadata": {},
          "execution_count": 22
        }
      ],
      "source": [
        "df.head()"
      ]
    },
    {
      "cell_type": "code",
      "execution_count": 23,
      "id": "e5ae0ddb",
      "metadata": {
        "colab": {
          "base_uri": "https://localhost:8080/",
          "height": 481
        },
        "id": "e5ae0ddb",
        "outputId": "34cfd147-9387-42cd-acc1-cc1b9e0eeefc"
      },
      "outputs": [
        {
          "output_type": "stream",
          "name": "stderr",
          "text": [
            "/usr/local/lib/python3.7/dist-packages/seaborn/_decorators.py:43: FutureWarning: Pass the following variables as keyword args: x, y. From version 0.12, the only valid positional argument will be `data`, and passing other arguments without an explicit keyword will result in an error or misinterpretation.\n",
            "  FutureWarning\n",
            "/usr/local/lib/python3.7/dist-packages/seaborn/_decorators.py:43: FutureWarning: Pass the following variables as keyword args: x, y. From version 0.12, the only valid positional argument will be `data`, and passing other arguments without an explicit keyword will result in an error or misinterpretation.\n",
            "  FutureWarning\n"
          ]
        },
        {
          "output_type": "execute_result",
          "data": {
            "text/plain": [
              "<matplotlib.axes._subplots.AxesSubplot at 0x7f817d37e4d0>"
            ]
          },
          "metadata": {},
          "execution_count": 23
        },
        {
          "output_type": "display_data",
          "data": {
            "text/plain": [
              "<Figure size 1080x432 with 2 Axes>"
            ],
            "image/png": "[encoded data removed]"
          },
          "metadata": {
            "needs_background": "light"
          }
        }
      ],
      "source": [
        "fig,axs=plt.subplots(1,2,figsize=(15,6))\n",
        "sns.barplot(['female','male'],df.groupby('gender').median()['TotalCharges'],ax=axs[0])\n",
        "sns.barplot(['female','male'],df.groupby('gender').median()['MonthlyCharges'],\n",
        "            ax=axs[1])"
      ]
    },
    {
      "cell_type": "code",
      "execution_count": 24,
      "id": "28068900",
      "metadata": {
        "colab": {
          "base_uri": "https://localhost:8080/",
          "height": 337
        },
        "id": "28068900",
        "outputId": "64f1f614-6b53-463b-be2c-c82410950cbc"
      },
      "outputs": [
        {
          "output_type": "stream",
          "name": "stderr",
          "text": [
            "/usr/local/lib/python3.7/dist-packages/seaborn/_decorators.py:43: FutureWarning: Pass the following variables as keyword args: x, y. From version 0.12, the only valid positional argument will be `data`, and passing other arguments without an explicit keyword will result in an error or misinterpretation.\n",
            "  FutureWarning\n"
          ]
        },
        {
          "output_type": "execute_result",
          "data": {
            "text/plain": [
              "<matplotlib.axes._subplots.AxesSubplot at 0x7f817d31ca50>"
            ]
          },
          "metadata": {},
          "execution_count": 24
        },
        {
          "output_type": "display_data",
          "data": {
            "text/plain": [
              "<Figure size 432x288 with 1 Axes>"
            ],
            "image/png": "[encoded data removed]"
          },
          "metadata": {
            "needs_background": "light"
          }
        }
      ],
      "source": [
        "sns.barplot([0,0.5,1],\n",
        "            df.groupby(['gender',\n",
        "                        'Partner']).median().reset_index().groupby('Partner').median()['TotalCharges'])"
      ]
    },
    {
      "cell_type": "markdown",
      "id": "2ccfcaa7",
      "metadata": {
        "id": "2ccfcaa7"
      },
      "source": [
        "##### observing this plot teach us that partner feature is important  because have positive correlation with pay Charges"
      ]
    },
    {
      "cell_type": "code",
      "execution_count": 25,
      "id": "1e48a3d8",
      "metadata": {
        "colab": {
          "base_uri": "https://localhost:8080/",
          "height": 458
        },
        "id": "1e48a3d8",
        "outputId": "7b70c5d2-432d-488e-a255-7abb70f7f616"
      },
      "outputs": [
        {
          "output_type": "execute_result",
          "data": {
            "text/plain": [
              "<seaborn.axisgrid.JointGrid at 0x7f817d285410>"
            ]
          },
          "metadata": {},
          "execution_count": 25
        },
        {
          "output_type": "display_data",
          "data": {
            "text/plain": [
              "<Figure size 432x432 with 3 Axes>"
            ],
            "image/png": "[encoded data removed]"
          },
          "metadata": {
            "needs_background": "light"
          }
        }
      ],
      "source": [
        "sns.jointplot(data=df,x='TotalCharges',y='tenure',kind='hex')"
      ]
    },
    {
      "cell_type": "code",
      "execution_count": 26,
      "id": "954117ca",
      "metadata": {
        "id": "954117ca"
      },
      "outputs": [],
      "source": [
        "# sns.swarmplot(data=df,x='Label',y='tenure')"
      ]
    },
    {
      "cell_type": "code",
      "execution_count": 27,
      "id": "b7e7e5b6",
      "metadata": {
        "colab": {
          "base_uri": "https://localhost:8080/",
          "height": 296
        },
        "id": "b7e7e5b6",
        "outputId": "241e1ed0-dbda-48b4-c748-5aeb1149f20e"
      },
      "outputs": [
        {
          "output_type": "execute_result",
          "data": {
            "text/plain": [
              "<matplotlib.axes._subplots.AxesSubplot at 0x7f817d08f6d0>"
            ]
          },
          "metadata": {},
          "execution_count": 27
        },
        {
          "output_type": "display_data",
          "data": {
            "text/plain": [
              "<Figure size 432x288 with 1 Axes>"
            ],
            "image/png": "[encoded data removed]"
          },
          "metadata": {
            "needs_background": "light"
          }
        }
      ],
      "source": [
        "sns.barplot(data=df.groupby('InternetService').median().reset_index(),\n",
        "           x='InternetService',y='TotalCharges')"
      ]
    },
    {
      "cell_type": "code",
      "execution_count": 28,
      "id": "9dabcb47",
      "metadata": {
        "id": "9dabcb47"
      },
      "outputs": [],
      "source": [
        "df.drop('customerID',axis=1,inplace=True)"
      ]
    },
    {
      "cell_type": "code",
      "execution_count": 29,
      "id": "6dc7437e",
      "metadata": {
        "id": "6dc7437e"
      },
      "outputs": [],
      "source": [
        "from sklearn.preprocessing import OrdinalEncoder\n",
        "Ord=OrdinalEncoder()\n",
        "for col in df.columns:\n",
        "    if df[col].dtype=='O':\n",
        "        df[col]=Ord.fit_transform(df[[col]])"
      ]
    },
    {
      "cell_type": "code",
      "execution_count": 30,
      "id": "d5fae51e",
      "metadata": {
        "colab": {
          "base_uri": "https://localhost:8080/"
        },
        "id": "d5fae51e",
        "outputId": "8fa00d3f-89c4-40c3-ce0d-ed6848fb9b40"
      },
      "outputs": [
        {
          "output_type": "execute_result",
          "data": {
            "text/plain": [
              "0.000000    37452\n",
              "1.000000     6452\n",
              "0.146899       36\n",
              "Name: Label, dtype: int64"
            ]
          },
          "metadata": {},
          "execution_count": 30
        }
      ],
      "source": [
        "df.Label.value_counts()"
      ]
    },
    {
      "cell_type": "code",
      "execution_count": 31,
      "id": "32da9f7a",
      "metadata": {
        "id": "32da9f7a"
      },
      "outputs": [],
      "source": [
        "df.drop(df[(df['Label']<1) & (df['Label']>0)].index,inplace=True)"
      ]
    },
    {
      "cell_type": "code",
      "execution_count": 32,
      "id": "65883ff9",
      "metadata": {
        "id": "65883ff9"
      },
      "outputs": [],
      "source": [
        "from sklearn import feature_selection as fs\n",
        "x=df.drop('Label',axis=1)\n",
        "y=np.array(df['Label']).flatten()"
      ]
    },
    {
      "cell_type": "code",
      "execution_count": 33,
      "id": "c718d21a",
      "metadata": {
        "colab": {
          "base_uri": "https://localhost:8080/"
        },
        "id": "c718d21a",
        "outputId": "9995520a-afd0-47bb-f4e6-3edcc6b6e5e1"
      },
      "outputs": [
        {
          "output_type": "execute_result",
          "data": {
            "text/plain": [
              "array(['gender', 'Partner', 'Dependents', 'tenure', 'MultipleLines',\n",
              "       'InternetService', 'Contract', 'PaperlessBilling', 'PaymentMethod',\n",
              "       'MonthlyCharges', 'TotalCharges'], dtype=object)"
            ]
          },
          "metadata": {},
          "execution_count": 33
        }
      ],
      "source": [
        "Vr=fs.VarianceThreshold(0.7*(1-0.7))\n",
        "Vr.fit(x).get_feature_names_out()"
      ]
    },
    {
      "cell_type": "code",
      "execution_count": 34,
      "id": "e25a480f",
      "metadata": {
        "colab": {
          "base_uri": "https://localhost:8080/"
        },
        "id": "e25a480f",
        "outputId": "33da29a5-dd0d-4966-bf37-668d37d841d3"
      },
      "outputs": [
        {
          "output_type": "execute_result",
          "data": {
            "text/plain": [
              "array(['Partner', 'Dependents', 'tenure', 'MultipleLines',\n",
              "       'OnlineSecurity', 'OnlineBackup', 'DeviceProtection',\n",
              "       'TechSupport', 'StreamingTV', 'StreamingMovies', 'Contract',\n",
              "       'PaperlessBilling', 'PaymentMethod', 'MonthlyCharges',\n",
              "       'TotalCharges'], dtype=object)"
            ]
          },
          "metadata": {},
          "execution_count": 34
        }
      ],
      "source": [
        "sf=fs.SelectFpr(fs.chi2,alpha=0.01)\n",
        "# select by false positive rate\n",
        "sf.fit(x,y)\n",
        "sf.get_feature_names_out()"
      ]
    },
    {
      "cell_type": "code",
      "execution_count": 35,
      "id": "ca1d4f47",
      "metadata": {
        "colab": {
          "base_uri": "https://localhost:8080/"
        },
        "id": "ca1d4f47",
        "outputId": "aaa7c26a-ff08-40a3-bb3f-c608c0c42b55"
      },
      "outputs": [
        {
          "output_type": "execute_result",
          "data": {
            "text/plain": [
              "array([0.02864082, 0.02634544, 0.02294841, 0.1675069 , 0.00419421,\n",
              "       0.02185451, 0.02038499, 0.0345669 , 0.02428736, 0.02431005,\n",
              "       0.03743079, 0.01840606, 0.01868574, 0.08052047, 0.02479767,\n",
              "       0.05456393, 0.19622186, 0.19433389])"
            ]
          },
          "metadata": {},
          "execution_count": 35
        }
      ],
      "source": [
        "from sklearn.ensemble import RandomForestClassifier\n",
        "model=RandomForestClassifier(n_jobs=-1)\n",
        "model.fit(x,y)\n",
        "columns_rate=model.feature_importances_\n",
        "columns_rate"
      ]
    },
    {
      "cell_type": "code",
      "execution_count": null,
      "id": "2c208539",
      "metadata": {
        "id": "2c208539",
        "outputId": "c497cb4b-62c5-4749-c310-9f42b3f2a0c0"
      },
      "outputs": [
        {
          "data": {
            "text/plain": [
              "[3, 7, 10, 13, 15, 16, 17]"
            ]
          },
          "execution_count": 89,
          "metadata": {},
          "output_type": "execute_result"
        }
      ],
      "source": [
        "list_index_nondrop=[]\n",
        "for indx,i in enumerate(columns_rate):\n",
        "    if i>0.03:\n",
        "        list_index_nondrop.append(indx)\n",
        "list_index_nondrop"
      ]
    },
    {
      "cell_type": "code",
      "execution_count": null,
      "id": "1d0c2095",
      "metadata": {
        "id": "1d0c2095"
      },
      "outputs": [],
      "source": [
        "def predict_power(model,df,target,r):\n",
        "    from itertools import combinations\n",
        "    from numpy import mean\n",
        "    from sklearn.model_selection import cross_val_score\n",
        "    if r==1:\n",
        "        score= [(mean(cross_val_score(model,df[[x]],target,n_jobs=-1))).round(2) for x in df.columns]\n",
        "        dict_scores=dict(zip(df.columns,score))\n",
        "        return dict_scores\n",
        "    elif r>1:\n",
        "        for i in combinations(df.columns,r):\n",
        "            res=(mean(cross_val_score(model,df[list(i)],target,n_jobs=-1))).round(2)\n",
        "            print(f'{i}--->{res}')\n",
        "        return 'end'"
      ]
    },
    {
      "cell_type": "code",
      "execution_count": null,
      "id": "feb9bbed",
      "metadata": {
        "id": "feb9bbed",
        "outputId": "7ed73ccf-1e1c-48ef-dac1-f9e7fa6ddd90"
      },
      "outputs": [
        {
          "data": {
            "text/plain": [
              "{'gender': 0.85,\n",
              " 'Partner': 0.85,\n",
              " 'Dependents': 0.85,\n",
              " 'tenure': 0.85,\n",
              " 'PhoneService': 0.85,\n",
              " 'MultipleLines': 0.85,\n",
              " 'InternetService': 0.85,\n",
              " 'OnlineSecurity': 0.85,\n",
              " 'OnlineBackup': 0.85,\n",
              " 'DeviceProtection': 0.85,\n",
              " 'TechSupport': 0.85,\n",
              " 'StreamingTV': 0.85,\n",
              " 'StreamingMovies': 0.85,\n",
              " 'Contract': 0.85,\n",
              " 'PaperlessBilling': 0.85,\n",
              " 'PaymentMethod': 0.85,\n",
              " 'MonthlyCharges': 0.88,\n",
              " 'TotalCharges': 0.99}"
            ]
          },
          "execution_count": 92,
          "metadata": {},
          "output_type": "execute_result"
        }
      ],
      "source": [
        "predict_power(RandomForestClassifier(n_jobs=-1),\n",
        "             x,y,1)"
      ]
    },
    {
      "cell_type": "code",
      "execution_count": null,
      "id": "2cdbfb2e",
      "metadata": {
        "id": "2cdbfb2e",
        "outputId": "2e1fa0d1-e878-4b57-f7e9-bc92800d8457"
      },
      "outputs": [
        {
          "data": {
            "text/plain": [
              "[3, 7, 10, 13, 15, 16, 17]"
            ]
          },
          "execution_count": 93,
          "metadata": {},
          "output_type": "execute_result"
        }
      ],
      "source": [
        "list_index_nondrop"
      ]
    },
    {
      "cell_type": "code",
      "execution_count": null,
      "id": "a68e510b",
      "metadata": {
        "id": "a68e510b"
      },
      "outputs": [],
      "source": [
        "X=x[x.columns[list_index_nondrop]]"
      ]
    },
    {
      "cell_type": "markdown",
      "id": "0048fbfa",
      "metadata": {
        "id": "0048fbfa"
      },
      "source": [
        "###### با استفاده از این قابلیت فیچر های مورد نیاز رو نگه داشتیم"
      ]
    },
    {
      "cell_type": "code",
      "execution_count": null,
      "id": "dff9f4c1",
      "metadata": {
        "id": "dff9f4c1"
      },
      "outputs": [],
      "source": [
        "from sklearn.model_selection import train_test_split\n",
        "xtrain,xvalid,ytrain,yvalid=train_test_split(X,y,random_state=42)"
      ]
    },
    {
      "cell_type": "code",
      "execution_count": null,
      "id": "72a6e7dd",
      "metadata": {
        "id": "72a6e7dd",
        "outputId": "db596e30-698e-433c-c528-29aa4cd77d3b"
      },
      "outputs": [
        {
          "name": "stderr",
          "output_type": "stream",
          "text": [
            "C:\\Users\\vai\\anaconda3\\lib\\site-packages\\sklearn\\linear_model\\_logistic.py:814: ConvergenceWarning: lbfgs failed to converge (status=1):\n",
            "STOP: TOTAL NO. of ITERATIONS REACHED LIMIT.\n",
            "\n",
            "Increase the number of iterations (max_iter) or scale the data as shown in:\n",
            "    https://scikit-learn.org/stable/modules/preprocessing.html\n",
            "Please also refer to the documentation for alternative solver options:\n",
            "    https://scikit-learn.org/stable/modules/linear_model.html#logistic-regression\n",
            "  n_iter_i = _check_optimize_result(\n"
          ]
        }
      ],
      "source": [
        "from sklearn.linear_model import LogisticRegression\n",
        "model=LogisticRegression()\n",
        "model.fit(xtrain,ytrain)\n",
        "ypre=model.predict(xvalid)"
      ]
    },
    {
      "cell_type": "code",
      "execution_count": null,
      "id": "04bc5a22",
      "metadata": {
        "id": "04bc5a22",
        "outputId": "93fbbaf4-eb48-479d-a863-950737a9af52"
      },
      "outputs": [
        {
          "name": "stderr",
          "output_type": "stream",
          "text": [
            "C:\\Users\\vai\\anaconda3\\lib\\site-packages\\seaborn\\_decorators.py:36: FutureWarning: Pass the following variable as a keyword arg: x. From version 0.12, the only valid positional argument will be `data`, and passing other arguments without an explicit keyword will result in an error or misinterpretation.\n",
            "  warnings.warn(\n"
          ]
        },
        {
          "data": {
            "text/plain": [
              "<AxesSubplot:ylabel='count'>"
            ]
          },
          "execution_count": 102,
          "metadata": {},
          "output_type": "execute_result"
        },
        {
          "data": {
            "image/png": "[encoded data removed]",
            "text/plain": [
              "<Figure size 432x288 with 1 Axes>"
            ]
          },
          "metadata": {
            "needs_background": "light"
          },
          "output_type": "display_data"
        }
      ],
      "source": [
        "sns.countplot(ypre==yvalid)"
      ]
    },
    {
      "cell_type": "code",
      "execution_count": null,
      "id": "a18c640b",
      "metadata": {
        "id": "a18c640b",
        "outputId": "2ddeffe4-39e7-4824-ec9d-dee4522796cf"
      },
      "outputs": [
        {
          "name": "stdout",
          "output_type": "stream",
          "text": [
            "              precision    recall  f1-score   support\n",
            "\n",
            "         0.0       0.88      0.98      0.92     48588\n",
            "         1.0       0.61      0.22      0.32      8458\n",
            "\n",
            "    accuracy                           0.86     57046\n",
            "   macro avg       0.74      0.60      0.62     57046\n",
            "weighted avg       0.84      0.86      0.83     57046\n",
            "\n"
          ]
        }
      ],
      "source": [
        "from sklearn.metrics import classification_report\n",
        "print(classification_report(yvalid,ypre))"
      ]
    },
    {
      "cell_type": "markdown",
      "id": "007aa23f",
      "metadata": {
        "id": "007aa23f"
      },
      "source": [
        "در کلاس صفر به دلیل وجود دیتای کافی دقت مناسبی داشتیم ولی به دلیل وجود دیتای کمتردر کلاس یک دقت خوبی کسب نکردیم که باید با تکنینک های بالانس سازی انرا بهبود ببخشیم"
      ]
    }
  ],
  "metadata": {
    "kernelspec": {
      "display_name": "Python 3 (ipykernel)",
      "language": "python",
      "name": "python3"
    },
    "language_info": {
      "codemirror_mode": {
        "name": "ipython",
        "version": 3
      },
      "file_extension": ".py",
      "mimetype": "text/x-python",
      "name": "python",
      "nbconvert_exporter": "python",
      "pygments_lexer": "ipython3",
      "version": "3.8.10"
    },
    "colab": {
      "name": "prozhe.ipynb",
      "provenance": [],
      "include_colab_link": true
    }
  },
  "nbformat": 4,
  "nbformat_minor": 5
}